{
  "cells": [
    {
      "cell_type": "markdown",
      "metadata": {
        "id": "lN5ZmOXIwS0a"
      },
      "source": [
        "## Imports and Mounting"
      ]
    },
    {
      "cell_type": "code",
      "execution_count": null,
      "metadata": {
        "colab": {
          "base_uri": "https://localhost:8080/"
        },
        "id": "kREhaORsNXe5",
        "outputId": "1ea646ee-3563-4da1-f528-d1af678085ad"
      },
      "outputs": [
        {
          "output_type": "stream",
          "name": "stdout",
          "text": [
            "Mounted at /content/drive\n"
          ]
        }
      ],
      "source": [
        "# Mount Google Drive\n",
        "from google.colab import drive\n",
        "drive.mount('/content/drive')"
      ]
    },
    {
      "cell_type": "code",
      "execution_count": 4,
      "metadata": {
        "colab": {
          "base_uri": "https://localhost:8080/"
        },
        "id": "2B8O38NVrGHF",
        "outputId": "2d98f56e-7cbb-41e3-a69e-0ae68ed4d37d"
      },
      "outputs": [
        {
          "output_type": "stream",
          "name": "stdout",
          "text": [
            "Collecting torchmetrics\n",
            "  Downloading torchmetrics-1.3.0.post0-py3-none-any.whl (840 kB)\n",
            "\u001b[2K     \u001b[90m━━━━━━━━━━━━━━━━━━━━━━━━━━━━━━━━━━━━━━━━\u001b[0m \u001b[32m840.2/840.2 kB\u001b[0m \u001b[31m8.0 MB/s\u001b[0m eta \u001b[36m0:00:00\u001b[0m\n",
            "\u001b[?25hRequirement already satisfied: numpy>1.20.0 in /usr/local/lib/python3.10/dist-packages (from torchmetrics) (1.23.5)\n",
            "Requirement already satisfied: packaging>17.1 in /usr/local/lib/python3.10/dist-packages (from torchmetrics) (23.2)\n",
            "Requirement already satisfied: torch>=1.10.0 in /usr/local/lib/python3.10/dist-packages (from torchmetrics) (2.1.0+cu121)\n",
            "Collecting lightning-utilities>=0.8.0 (from torchmetrics)\n",
            "  Downloading lightning_utilities-0.10.1-py3-none-any.whl (24 kB)\n",
            "Requirement already satisfied: setuptools in /usr/local/lib/python3.10/dist-packages (from lightning-utilities>=0.8.0->torchmetrics) (67.7.2)\n",
            "Requirement already satisfied: typing-extensions in /usr/local/lib/python3.10/dist-packages (from lightning-utilities>=0.8.0->torchmetrics) (4.5.0)\n",
            "Requirement already satisfied: filelock in /usr/local/lib/python3.10/dist-packages (from torch>=1.10.0->torchmetrics) (3.13.1)\n",
            "Requirement already satisfied: sympy in /usr/local/lib/python3.10/dist-packages (from torch>=1.10.0->torchmetrics) (1.12)\n",
            "Requirement already satisfied: networkx in /usr/local/lib/python3.10/dist-packages (from torch>=1.10.0->torchmetrics) (3.2.1)\n",
            "Requirement already satisfied: jinja2 in /usr/local/lib/python3.10/dist-packages (from torch>=1.10.0->torchmetrics) (3.1.3)\n",
            "Requirement already satisfied: fsspec in /usr/local/lib/python3.10/dist-packages (from torch>=1.10.0->torchmetrics) (2023.6.0)\n",
            "Requirement already satisfied: triton==2.1.0 in /usr/local/lib/python3.10/dist-packages (from torch>=1.10.0->torchmetrics) (2.1.0)\n",
            "Requirement already satisfied: MarkupSafe>=2.0 in /usr/local/lib/python3.10/dist-packages (from jinja2->torch>=1.10.0->torchmetrics) (2.1.3)\n",
            "Requirement already satisfied: mpmath>=0.19 in /usr/local/lib/python3.10/dist-packages (from sympy->torch>=1.10.0->torchmetrics) (1.3.0)\n",
            "Installing collected packages: lightning-utilities, torchmetrics\n",
            "Successfully installed lightning-utilities-0.10.1 torchmetrics-1.3.0.post0\n"
          ]
        }
      ],
      "source": [
        "!pip install torchmetrics"
      ]
    },
    {
      "cell_type": "code",
      "execution_count": 5,
      "metadata": {
        "id": "Dazh0KQ0vCkN"
      },
      "outputs": [],
      "source": [
        "# Imports\n",
        "\n",
        "import torch\n",
        "import torch.nn as nn\n",
        "import torch.nn.functional as F\n",
        "import torch.optim as optim\n",
        "from torch.utils.data import ConcatDataset, DataLoader, random_split, Subset\n",
        "\n",
        "import torchvision\n",
        "import torchvision.transforms as transforms\n",
        "from torchvision.datasets import CIFAR10\n",
        "\n",
        "from torchmetrics import Accuracy, Recall, Precision, F1Score, ConfusionMatrix\n",
        "\n",
        "from sklearn.model_selection import KFold\n",
        "\n",
        "import numpy as np\n",
        "\n",
        "from tqdm import tqdm\n",
        "import matplotlib.pyplot as plt"
      ]
    },
    {
      "cell_type": "markdown",
      "metadata": {
        "id": "KCAGl79qwtpV"
      },
      "source": [
        "## Data Exploration\n",
        "\n",
        "Implement data loading and preprocessing techniques including normalization, resizing, and data augmentation."
      ]
    },
    {
      "cell_type": "code",
      "execution_count": null,
      "metadata": {
        "id": "38EhvlPUXo1Z"
      },
      "outputs": [],
      "source": [
        "# Normalize the original dataset via transform module\n",
        "original_transform = transforms.Compose([\n",
        "    transforms.Resize((32, 32)),\n",
        "    transforms.ToTensor(),\n",
        "    transforms.Normalize((0.5, 0.5, 0.5), (0.5, 0.5, 0.5))\n",
        "])\n",
        "\n",
        "# Augment and normalize the original dataset via transform module\n",
        "augmented_transform = transforms.Compose([\n",
        "    transforms.Resize((32, 32)),\n",
        "    transforms.RandomHorizontalFlip(),\n",
        "    transforms.RandomRotation(10),\n",
        "    transforms.ColorJitter(brightness=0.2, contrast=0.2, saturation=0.2),\n",
        "    transforms.ToTensor(),\n",
        "    transforms.Normalize((0.5, 0.5, 0.5), (0.5, 0.5, 0.5))\n",
        "])\n"
      ]
    },
    {
      "cell_type": "code",
      "execution_count": null,
      "metadata": {
        "colab": {
          "base_uri": "https://localhost:8080/"
        },
        "id": "_rdy7RifUIBN",
        "outputId": "48c380c4-2860-4e3c-a98b-d6a455597e77"
      },
      "outputs": [
        {
          "output_type": "stream",
          "name": "stdout",
          "text": [
            "Downloading https://www.cs.toronto.edu/~kriz/cifar-10-python.tar.gz to ./data/cifar-10-python.tar.gz\n"
          ]
        },
        {
          "output_type": "stream",
          "name": "stderr",
          "text": [
            "100%|██████████| 170498071/170498071 [00:02<00:00, 70320050.81it/s]\n"
          ]
        },
        {
          "output_type": "stream",
          "name": "stdout",
          "text": [
            "Extracting ./data/cifar-10-python.tar.gz to ./data\n",
            "Trainset size: 40000\n",
            "Validation set size: 10000\n",
            "Testset size: 10000\n"
          ]
        }
      ],
      "source": [
        "# Load CIFAR-10 dataset and apply and transformation and normalization\n",
        "dataset = CIFAR10(root='./data', train=True,\n",
        "                            download=True, transform=augmented_transform)\n",
        "testset = CIFAR10(root='./data', train=False,\n",
        "                            download=False, transform=original_transform)\n",
        "\n",
        "\n",
        "# Calculate the sizes for training and validation sets\n",
        "train_size = int(.8 * len(dataset))\n",
        "val_size = int(.2 * len(dataset))\n",
        "\n",
        "# Split the dataset into training and validation sets\n",
        "trainset, valset = random_split(dataset, [train_size, val_size])\n",
        "\n",
        "# Print the len\n",
        "print(\"Trainset size: {}\". format(len(trainset)))\n",
        "print(\"Validation set size: {}\". format(len(valset)))\n",
        "print(\"Testset size: {}\". format(len(testset)))\n"
      ]
    },
    {
      "cell_type": "code",
      "execution_count": null,
      "metadata": {
        "id": "R_N2QW86ZHY5"
      },
      "outputs": [],
      "source": [
        "batch_size = 64\n",
        "\n",
        "# Create data loaders for train and test sets\n",
        "trainloader = DataLoader(trainset, batch_size=batch_size, shuffle=True)\n",
        "valloader = DataLoader(valset, batch_size=batch_size, shuffle=True)\n",
        "testloader = DataLoader(testset, batch_size=batch_size, shuffle=True)\n",
        "\n",
        "# Classes\n",
        "classes = ('plane', 'car', 'bird', 'cat', 'deer', 'dog', 'frog', 'horse', 'ship', 'truck')\n",
        "\n"
      ]
    },
    {
      "cell_type": "code",
      "execution_count": null,
      "metadata": {
        "colab": {
          "base_uri": "https://localhost:8080/",
          "height": 313
        },
        "id": "VPtknauCa_yg",
        "outputId": "a3265e5e-837e-4c08-97e9-328476d343e9"
      },
      "outputs": [
        {
          "output_type": "stream",
          "name": "stderr",
          "text": [
            "WARNING:matplotlib.image:Clipping input data to the valid range for imshow with RGB data ([0..1] for floats or [0..255] for integers).\n",
            "WARNING:matplotlib.image:Clipping input data to the valid range for imshow with RGB data ([0..1] for floats or [0..255] for integers).\n",
            "WARNING:matplotlib.image:Clipping input data to the valid range for imshow with RGB data ([0..1] for floats or [0..255] for integers).\n",
            "WARNING:matplotlib.image:Clipping input data to the valid range for imshow with RGB data ([0..1] for floats or [0..255] for integers).\n"
          ]
        },
        {
          "output_type": "display_data",
          "data": {
            "text/plain": [
              "<Figure size 1200x300 with 4 Axes>"
            ],
            "image/png": "[encoded data removed]"
          },
          "metadata": {}
        }
      ],
      "source": [
        "images, _ = next(iter(trainloader))\n",
        "\n",
        "# Generate random indices for selecting images\n",
        "random_indices = np.random.randint(0, images.size(0), size=4)\n",
        "\n",
        "# Create a subplot for each image\n",
        "fig, axes = plt.subplots(1, 4, figsize=(12, 3))\n",
        "\n",
        "for i, ax in enumerate(axes):\n",
        "    # Extract the selected image\n",
        "    random_image = images[random_indices[i]]\n",
        "\n",
        "    # If the image is in torch tensor, convert it to a NumPy array\n",
        "    random_image = random_image.numpy()\n",
        "\n",
        "    # If the image has 3 channels, transpose it to (H, W, C) for display\n",
        "    if random_image.shape[0] == 3:\n",
        "        random_image = np.transpose(random_image, (1, 2, 0))\n",
        "\n",
        "    # Display the image\n",
        "    ax.imshow(random_image)\n",
        "    ax.axis('off')\n",
        "\n",
        "plt.show();"
      ]
    },
    {
      "cell_type": "markdown",
      "metadata": {
        "id": "XCsswHgDa1bB"
      },
      "source": [
        "## Model Architecture\n",
        "\n",
        "Design a CNN model from scratch. Ensure the model is appropriate for the task but not overly complex."
      ]
    },
    {
      "cell_type": "code",
      "execution_count": 6,
      "metadata": {
        "id": "Ql-J6i3aVcXs"
      },
      "outputs": [],
      "source": [
        "class CNN1(nn.Module):\n",
        "    def __init__(self):\n",
        "        super(CNN1, self).__init__()\n",
        "        self.feature_extractor = nn.Sequential(\n",
        "            nn.Conv2d(3, 32, kernel_size=3, padding=1),\n",
        "            nn.ReLU(),\n",
        "            nn.MaxPool2d(kernel_size=2),\n",
        "            nn.Conv2d(32, 64, kernel_size=3, padding=1),\n",
        "            nn.ReLU(),\n",
        "            nn.MaxPool2d(kernel_size=2),\n",
        "            nn.Flatten(),\n",
        "        )\n",
        "        self.classifier = nn.Sequential(\n",
        "            nn.Linear(64 * 8 * 8, 512),\n",
        "            nn.Linear(512, 10)\n",
        "        )\n",
        "\n",
        "    def forward(self, x):\n",
        "        x = self.feature_extractor(x)\n",
        "        x = self.classifier(x)\n",
        "        return x\n",
        "\n",
        "\n",
        "\n",
        "class CNN2(nn.Module):\n",
        "    def __init__(self):\n",
        "        super(CNN2, self).__init__()\n",
        "        self.feature_extractor = nn.Sequential(\n",
        "            nn.Conv2d(3, 32, kernel_size=3, padding=1),\n",
        "            nn.ReLU(),\n",
        "            nn.MaxPool2d(kernel_size=2),\n",
        "            nn.Conv2d(32, 32, kernel_size=3, padding=1),\n",
        "            nn.ReLU(),\n",
        "            nn.MaxPool2d(kernel_size=2),\n",
        "            nn.Conv2d(32, 64, kernel_size=3, padding=1),\n",
        "            nn.ReLU(),\n",
        "            nn.Flatten(),\n",
        "        )\n",
        "        self.classifier = nn.Sequential(\n",
        "            nn.Linear(64 * 8 * 8, 10)\n",
        "        )\n",
        "\n",
        "    def forward(self, x):\n",
        "        x = self.feature_extractor(x)\n",
        "        x = self.classifier(x)\n",
        "        return x\n"
      ]
    },
    {
      "cell_type": "markdown",
      "metadata": {
        "id": "Oh4uCJn6hIUd"
      },
      "source": [
        "## Training and Evaluation\n",
        "\n",
        "Tried two different optimizers are used."
      ]
    },
    {
      "cell_type": "code",
      "source": [
        "# Create a model using CNN1 model\n",
        "net = CNN1()"
      ],
      "metadata": {
        "id": "u59xkYFlWKG9"
      },
      "execution_count": null,
      "outputs": []
    },
    {
      "cell_type": "code",
      "execution_count": null,
      "metadata": {
        "id": "SkZ-ftKpKcg-"
      },
      "outputs": [],
      "source": [
        "# Set to variables of criterion and optimizer of Cross Entropy and Mini-Batch Gradient Decent, respectively.\n",
        "criterion = nn.CrossEntropyLoss()\n",
        "optimizer = optim.SGD(net.parameters(), lr=0.001, momentum=0.9)"
      ]
    },
    {
      "cell_type": "code",
      "execution_count": null,
      "metadata": {
        "colab": {
          "base_uri": "https://localhost:8080/"
        },
        "id": "WrLX8ZSOpq21",
        "outputId": "29b011c7-0963-45b8-e788-943f9120efb2"
      },
      "outputs": [
        {
          "name": "stdout",
          "output_type": "stream",
          "text": [
            "Training on Fold 1/5\n"
          ]
        },
        {
          "name": "stderr",
          "output_type": "stream",
          "text": [
            "Epoch 1 (Fold 1/5): 100%|██████████| 1250/1250 [11:48<00:00,  1.76it/s]\n",
            "Epoch 2 (Fold 1/5): 100%|██████████| 1250/1250 [11:53<00:00,  1.75it/s]\n",
            "Validation (Fold 1/5): 100%|██████████| 313/313 [01:18<00:00,  3.96it/s]\n"
          ]
        },
        {
          "name": "stdout",
          "output_type": "stream",
          "text": [
            "Validation loss: 1.623\n",
            "Validation accuracy: 42.08%\n",
            "Training on Fold 2/5\n"
          ]
        },
        {
          "name": "stderr",
          "output_type": "stream",
          "text": [
            "Epoch 1 (Fold 2/5): 100%|██████████| 1250/1250 [11:44<00:00,  1.78it/s]\n",
            "Epoch 2 (Fold 2/5): 100%|██████████| 1250/1250 [11:45<00:00,  1.77it/s]\n",
            "Validation (Fold 2/5): 100%|██████████| 313/313 [01:36<00:00,  3.25it/s]\n"
          ]
        },
        {
          "name": "stdout",
          "output_type": "stream",
          "text": [
            "Validation loss: 1.458\n",
            "Validation accuracy: 48.04%\n",
            "Training on Fold 3/5\n"
          ]
        },
        {
          "name": "stderr",
          "output_type": "stream",
          "text": [
            "Epoch 1 (Fold 3/5): 100%|██████████| 1250/1250 [11:48<00:00,  1.76it/s]\n",
            "Epoch 2 (Fold 3/5): 100%|██████████| 1250/1250 [11:41<00:00,  1.78it/s]\n",
            "Validation (Fold 3/5): 100%|██████████| 313/313 [01:34<00:00,  3.33it/s]\n"
          ]
        },
        {
          "name": "stdout",
          "output_type": "stream",
          "text": [
            "Validation loss: 1.362\n",
            "Validation accuracy: 51.77%\n",
            "Training on Fold 4/5\n"
          ]
        },
        {
          "name": "stderr",
          "output_type": "stream",
          "text": [
            "Epoch 1 (Fold 4/5): 100%|██████████| 1250/1250 [11:45<00:00,  1.77it/s]\n",
            "Epoch 2 (Fold 4/5): 100%|██████████| 1250/1250 [11:42<00:00,  1.78it/s]\n",
            "Validation (Fold 4/5): 100%|██████████| 313/313 [01:35<00:00,  3.29it/s]\n"
          ]
        },
        {
          "name": "stdout",
          "output_type": "stream",
          "text": [
            "Validation loss: 1.254\n",
            "Validation accuracy: 55.56%\n",
            "Training on Fold 5/5\n"
          ]
        },
        {
          "name": "stderr",
          "output_type": "stream",
          "text": [
            "Epoch 1 (Fold 5/5): 100%|██████████| 1250/1250 [11:52<00:00,  1.76it/s]\n",
            "Epoch 2 (Fold 5/5): 100%|██████████| 1250/1250 [12:01<00:00,  1.73it/s]\n",
            "Validation (Fold 5/5): 100%|██████████| 313/313 [01:19<00:00,  3.91it/s]"
          ]
        },
        {
          "name": "stdout",
          "output_type": "stream",
          "text": [
            "Validation loss: 1.195\n",
            "Validation accuracy: 57.65%\n",
            "Finished Training with Cross Validation\n"
          ]
        },
        {
          "name": "stderr",
          "output_type": "stream",
          "text": [
            "\n"
          ]
        }
      ],
      "source": [
        "# Set the number of folds\n",
        "num_folds = 5\n",
        "kf = KFold(n_splits=num_folds, shuffle=True, random_state=42)\n",
        "batch_size = 64\n",
        "\n",
        "# Loop over folds\n",
        "for fold, (train_indices, val_indices) in enumerate(kf.split(trainset)):\n",
        "    print(f\"Training on Fold {fold + 1}/{num_folds}\")\n",
        "\n",
        "    # Create data loaders for the current fold\n",
        "    train_subset = Subset(trainset, train_indices)\n",
        "    val_subset = Subset(trainset, val_indices)\n",
        "\n",
        "    # Create loaders for the train set and the validation dataset\n",
        "    trainloader = DataLoader(train_subset, batch_size=64, shuffle=True)\n",
        "    valloader = DataLoader(val_subset, batch_size=64, shuffle=False)\n",
        "\n",
        "    # Training loop\n",
        "    for epoch in range(2):  # loop over the dataset multiple times\n",
        "\n",
        "        running_loss = 0.0\n",
        "        for i, data in enumerate(tqdm(trainloader, desc=f'Epoch {epoch + 1} (Fold {fold + 1}/{num_folds})'), 0):\n",
        "            inputs, labels = data\n",
        "            # Reset the gradient\n",
        "            optimizer.zero_grad()\n",
        "            # Forward pass\n",
        "            outputs = net(inputs)\n",
        "            # Loss computing\n",
        "            loss = criterion(outputs, labels)\n",
        "            # Backward pass\n",
        "            loss.backward()\n",
        "            # Optimize model\n",
        "            optimizer.step()\n",
        "\n",
        "            running_loss += loss.item()\n",
        "            if i % 2000 == 1999:  # print every 2000 mini-batches\n",
        "                print(f'[{epoch + 1}, {i + 1:5d}] loss: {running_loss / 2000:.3f}')\n",
        "                running_loss = 0.0\n",
        "\n",
        "    # Validation loop\n",
        "    net.eval()  # Set the model to evaluation mode\n",
        "    val_loss = 0.0\n",
        "    correct = 0\n",
        "    total = 0\n",
        "    with torch.no_grad():\n",
        "        for data in tqdm(valloader, desc=f'Validation (Fold {fold + 1}/{num_folds})'):\n",
        "            inputs, labels = data\n",
        "            outputs = net(inputs)\n",
        "            loss = criterion(outputs, labels)\n",
        "            val_loss += loss.item()\n",
        "            # Set total and correct\n",
        "            _, predicted = outputs.max(1)\n",
        "            total += labels.size(0)\n",
        "            correct += predicted.eq(labels).sum().item()\n",
        "\n",
        "    # Print the validation loss and accuracy, respectively\n",
        "    print(f'Validation loss: {val_loss / len(valloader):.3f}')\n",
        "    print(f'Validation accuracy: {100 * correct / total:.2f}%')\n",
        "\n",
        "    net.train()  # Set the model back to training mode\n",
        "\n",
        "print('Finished Training with Cross Validation')"
      ]
    },
    {
      "cell_type": "code",
      "execution_count": null,
      "metadata": {
        "id": "oAN_G1T-fSXD"
      },
      "outputs": [],
      "source": [
        "# Set to variables of criterion and optimizer of Cross Entropy and Mini-Batch Gradient Decent, respectively.\n",
        "criterion = nn.CrossEntropyLoss()\n",
        "optimizer = optim.Adam(net.parameters(), lr=0.001)\n",
        "train_acc = Accuracy(task='multiclass', num_classes=10)\n",
        "val_acc = Accuracy(task='multiclass', num_classes=10)"
      ]
    },
    {
      "cell_type": "code",
      "execution_count": null,
      "metadata": {
        "colab": {
          "base_uri": "https://localhost:8080/"
        },
        "id": "ix-zNNSxfhNE",
        "outputId": "a16d0132-eaee-4b93-a632-965fab79609b"
      },
      "outputs": [
        {
          "metadata": {
            "tags": null
          },
          "name": "stderr",
          "output_type": "stream",
          "text": [
            "Training 1: 100%|██████████| 625/625 [01:27<00:00,  7.17it/s]\n",
            "Validation: 100%|██████████| 157/157 [00:15<00:00,  9.86it/s]\n"
          ]
        },
        {
          "metadata": {
            "tags": null
          },
          "name": "stdout",
          "output_type": "stream",
          "text": [
            "Training loss: 0.024\n",
            "Training accuracy: 45.948%\n",
            "Validation loss: 1.252\n",
            "Validation accuracy: 55.480%\n"
          ]
        },
        {
          "metadata": {
            "tags": null
          },
          "name": "stderr",
          "output_type": "stream",
          "text": [
            "Training 2: 100%|██████████| 625/625 [01:20<00:00,  7.80it/s]\n",
            "Validation: 100%|██████████| 157/157 [00:14<00:00, 10.67it/s]\n"
          ]
        },
        {
          "metadata": {
            "tags": null
          },
          "name": "stdout",
          "output_type": "stream",
          "text": [
            "Training loss: 0.018\n",
            "Training accuracy: 52.430%\n",
            "Validation loss: 1.097\n",
            "Validation accuracy: 58.410%\n"
          ]
        },
        {
          "metadata": {
            "tags": null
          },
          "name": "stderr",
          "output_type": "stream",
          "text": [
            "Training 3: 100%|██████████| 625/625 [01:19<00:00,  7.82it/s]\n",
            "Validation: 100%|██████████| 157/157 [00:14<00:00, 10.69it/s]\n"
          ]
        },
        {
          "metadata": {
            "tags": null
          },
          "name": "stdout",
          "output_type": "stream",
          "text": [
            "Training loss: 0.016\n",
            "Training accuracy: 56.302%\n",
            "Validation loss: 1.011\n",
            "Validation accuracy: 60.683%\n"
          ]
        },
        {
          "metadata": {
            "tags": null
          },
          "name": "stderr",
          "output_type": "stream",
          "text": [
            "Training 4: 100%|██████████| 625/625 [01:24<00:00,  7.42it/s]\n",
            "Validation: 100%|██████████| 157/157 [00:14<00:00, 10.58it/s]\n"
          ]
        },
        {
          "metadata": {
            "tags": null
          },
          "name": "stdout",
          "output_type": "stream",
          "text": [
            "Training loss: 0.015\n",
            "Training accuracy: 59.017%\n",
            "Validation loss: 0.928\n",
            "Validation accuracy: 62.452%\n"
          ]
        },
        {
          "metadata": {
            "tags": null
          },
          "name": "stderr",
          "output_type": "stream",
          "text": [
            "Training 5: 100%|██████████| 625/625 [01:22<00:00,  7.57it/s]\n",
            "Validation: 100%|██████████| 157/157 [00:14<00:00, 10.62it/s]\n"
          ]
        },
        {
          "metadata": {
            "tags": null
          },
          "name": "stdout",
          "output_type": "stream",
          "text": [
            "Training loss: 0.014\n",
            "Training accuracy: 61.141%\n",
            "Validation loss: 0.878\n",
            "Validation accuracy: 63.924%\n"
          ]
        },
        {
          "metadata": {
            "tags": null
          },
          "name": "stderr",
          "output_type": "stream",
          "text": [
            "Training 6: 100%|██████████| 625/625 [01:22<00:00,  7.62it/s]\n",
            "Validation: 100%|██████████| 157/157 [00:14<00:00, 10.64it/s]\n"
          ]
        },
        {
          "metadata": {
            "tags": null
          },
          "name": "stdout",
          "output_type": "stream",
          "text": [
            "Training loss: 0.013\n",
            "Training accuracy: 62.825%\n",
            "Validation loss: 0.857\n",
            "Validation accuracy: 65.018%\n"
          ]
        },
        {
          "metadata": {
            "tags": null
          },
          "name": "stderr",
          "output_type": "stream",
          "text": [
            "Training 7: 100%|██████████| 625/625 [01:20<00:00,  7.78it/s]\n",
            "Validation: 100%|██████████| 157/157 [00:14<00:00, 10.54it/s]\n"
          ]
        },
        {
          "metadata": {
            "tags": null
          },
          "name": "stdout",
          "output_type": "stream",
          "text": [
            "Training loss: 0.012\n",
            "Training accuracy: 64.232%\n",
            "Validation loss: 0.826\n",
            "Validation accuracy: 65.960%\n"
          ]
        },
        {
          "metadata": {
            "tags": null
          },
          "name": "stderr",
          "output_type": "stream",
          "text": [
            "Training 8: 100%|██████████| 625/625 [01:20<00:00,  7.77it/s]\n",
            "Validation: 100%|██████████| 157/157 [00:14<00:00, 10.69it/s]\n"
          ]
        },
        {
          "metadata": {
            "tags": null
          },
          "name": "stdout",
          "output_type": "stream",
          "text": [
            "Training loss: 0.012\n",
            "Training accuracy: 65.417%\n",
            "Validation loss: 0.820\n",
            "Validation accuracy: 66.688%\n"
          ]
        },
        {
          "metadata": {
            "tags": null
          },
          "name": "stderr",
          "output_type": "stream",
          "text": [
            "Training 9: 100%|██████████| 625/625 [01:22<00:00,  7.55it/s]\n",
            "Validation: 100%|██████████| 157/157 [00:14<00:00, 10.83it/s]\n"
          ]
        },
        {
          "metadata": {
            "tags": null
          },
          "name": "stdout",
          "output_type": "stream",
          "text": [
            "Training loss: 0.011\n",
            "Training accuracy: 66.455%\n",
            "Validation loss: 0.803\n",
            "Validation accuracy: 67.396%\n"
          ]
        },
        {
          "metadata": {
            "tags": null
          },
          "name": "stderr",
          "output_type": "stream",
          "text": [
            "Training 10: 100%|██████████| 625/625 [01:20<00:00,  7.72it/s]\n",
            "Validation: 100%|██████████| 157/157 [00:14<00:00, 10.63it/s]\n"
          ]
        },
        {
          "metadata": {
            "tags": null
          },
          "name": "stdout",
          "output_type": "stream",
          "text": [
            "Training loss: 0.011\n",
            "Training accuracy: 67.336%\n",
            "Validation loss: 0.787\n",
            "Validation accuracy: 67.921%\n"
          ]
        },
        {
          "metadata": {
            "tags": null
          },
          "name": "stderr",
          "output_type": "stream",
          "text": [
            "Training 11: 100%|██████████| 625/625 [01:22<00:00,  7.58it/s]\n",
            "Validation: 100%|██████████| 157/157 [00:14<00:00, 10.57it/s]\n"
          ]
        },
        {
          "metadata": {
            "tags": null
          },
          "name": "stdout",
          "output_type": "stream",
          "text": [
            "Training loss: 0.011\n",
            "Training accuracy: 68.118%\n",
            "Validation loss: 0.794\n",
            "Validation accuracy: 68.396%\n"
          ]
        },
        {
          "metadata": {
            "tags": null
          },
          "name": "stderr",
          "output_type": "stream",
          "text": [
            "Training 12: 100%|██████████| 625/625 [01:20<00:00,  7.78it/s]\n",
            "Validation: 100%|██████████| 157/157 [00:14<00:00, 10.69it/s]\n"
          ]
        },
        {
          "metadata": {
            "tags": null
          },
          "name": "stdout",
          "output_type": "stream",
          "text": [
            "Training loss: 0.011\n",
            "Training accuracy: 68.849%\n",
            "Validation loss: 0.777\n",
            "Validation accuracy: 68.798%\n"
          ]
        },
        {
          "metadata": {
            "tags": null
          },
          "name": "stderr",
          "output_type": "stream",
          "text": [
            "Training 13: 100%|██████████| 625/625 [01:20<00:00,  7.75it/s]\n",
            "Validation: 100%|██████████| 157/157 [00:14<00:00, 10.79it/s]\n"
          ]
        },
        {
          "metadata": {
            "tags": null
          },
          "name": "stdout",
          "output_type": "stream",
          "text": [
            "Training loss: 0.010\n",
            "Training accuracy: 69.491%\n",
            "Validation loss: 0.845\n",
            "Validation accuracy: 68.998%\n"
          ]
        },
        {
          "metadata": {
            "tags": null
          },
          "name": "stderr",
          "output_type": "stream",
          "text": [
            "Training 14: 100%|██████████| 625/625 [01:23<00:00,  7.44it/s]\n",
            "Validation: 100%|██████████| 157/157 [00:14<00:00, 10.62it/s]\n"
          ]
        },
        {
          "metadata": {
            "tags": null
          },
          "name": "stdout",
          "output_type": "stream",
          "text": [
            "Training loss: 0.010\n",
            "Training accuracy: 70.068%\n",
            "Validation loss: 0.759\n",
            "Validation accuracy: 69.349%\n"
          ]
        },
        {
          "metadata": {
            "tags": null
          },
          "name": "stderr",
          "output_type": "stream",
          "text": [
            "Training 15: 100%|██████████| 625/625 [01:20<00:00,  7.75it/s]\n",
            "Validation: 100%|██████████| 157/157 [00:14<00:00, 10.52it/s]\n"
          ]
        },
        {
          "metadata": {
            "tags": null
          },
          "name": "stdout",
          "output_type": "stream",
          "text": [
            "Training loss: 0.010\n",
            "Training accuracy: 70.621%\n",
            "Validation loss: 0.760\n",
            "Validation accuracy: 69.692%\n"
          ]
        },
        {
          "metadata": {
            "tags": null
          },
          "name": "stderr",
          "output_type": "stream",
          "text": [
            "Training 16: 100%|██████████| 625/625 [01:22<00:00,  7.60it/s]\n",
            "Validation: 100%|██████████| 157/157 [00:14<00:00, 10.60it/s]\n"
          ]
        },
        {
          "metadata": {
            "tags": null
          },
          "name": "stdout",
          "output_type": "stream",
          "text": [
            "Training loss: 0.010\n",
            "Training accuracy: 71.098%\n",
            "Validation loss: 0.744\n",
            "Validation accuracy: 69.997%\n"
          ]
        },
        {
          "metadata": {
            "tags": null
          },
          "name": "stderr",
          "output_type": "stream",
          "text": [
            "Training 17: 100%|██████████| 625/625 [01:21<00:00,  7.68it/s]\n",
            "Validation: 100%|██████████| 157/157 [00:14<00:00, 10.76it/s]\n"
          ]
        },
        {
          "metadata": {
            "tags": null
          },
          "name": "stdout",
          "output_type": "stream",
          "text": [
            "Training loss: 0.010\n",
            "Training accuracy: 71.548%\n",
            "Validation loss: 0.764\n",
            "Validation accuracy: 70.238%\n"
          ]
        },
        {
          "metadata": {
            "tags": null
          },
          "name": "stderr",
          "output_type": "stream",
          "text": [
            "Training 18: 100%|██████████| 625/625 [01:22<00:00,  7.60it/s]\n",
            "Validation: 100%|██████████| 157/157 [00:15<00:00,  9.96it/s]\n"
          ]
        },
        {
          "metadata": {
            "tags": null
          },
          "name": "stdout",
          "output_type": "stream",
          "text": [
            "Training loss: 0.009\n",
            "Training accuracy: 71.956%\n",
            "Validation loss: 0.785\n",
            "Validation accuracy: 70.419%\n"
          ]
        },
        {
          "metadata": {
            "tags": null
          },
          "name": "stderr",
          "output_type": "stream",
          "text": [
            "Training 19: 100%|██████████| 625/625 [01:20<00:00,  7.73it/s]\n",
            "Validation: 100%|██████████| 157/157 [00:14<00:00, 10.61it/s]\n"
          ]
        },
        {
          "metadata": {
            "tags": null
          },
          "name": "stdout",
          "output_type": "stream",
          "text": [
            "Training loss: 0.009\n",
            "Training accuracy: 72.332%\n",
            "Validation loss: 0.757\n",
            "Validation accuracy: 70.628%\n"
          ]
        },
        {
          "metadata": {
            "tags": null
          },
          "name": "stderr",
          "output_type": "stream",
          "text": [
            "Training 20: 100%|██████████| 625/625 [01:20<00:00,  7.79it/s]\n",
            "Validation: 100%|██████████| 157/157 [00:14<00:00, 10.59it/s]\n"
          ]
        },
        {
          "metadata": {
            "tags": null
          },
          "name": "stdout",
          "output_type": "stream",
          "text": [
            "Training loss: 0.009\n",
            "Training accuracy: 72.686%\n",
            "Validation loss: 0.769\n",
            "Validation accuracy: 70.820%\n"
          ]
        },
        {
          "metadata": {
            "tags": null
          },
          "name": "stderr",
          "output_type": "stream",
          "text": [
            "Training 21: 100%|██████████| 625/625 [01:22<00:00,  7.56it/s]\n",
            "Validation: 100%|██████████| 157/157 [00:14<00:00, 10.83it/s]\n"
          ]
        },
        {
          "metadata": {
            "tags": null
          },
          "name": "stdout",
          "output_type": "stream",
          "text": [
            "Training loss: 0.009\n",
            "Training accuracy: 73.018%\n",
            "Validation loss: 0.730\n",
            "Validation accuracy: 71.036%\n"
          ]
        },
        {
          "metadata": {
            "tags": null
          },
          "name": "stderr",
          "output_type": "stream",
          "text": [
            "Training 22: 100%|██████████| 625/625 [01:21<00:00,  7.67it/s]\n",
            "Validation: 100%|██████████| 157/157 [00:14<00:00, 10.92it/s]\n"
          ]
        },
        {
          "metadata": {
            "tags": null
          },
          "name": "stdout",
          "output_type": "stream",
          "text": [
            "Training loss: 0.009\n",
            "Training accuracy: 73.342%\n",
            "Validation loss: 0.760\n",
            "Validation accuracy: 71.218%\n"
          ]
        },
        {
          "metadata": {
            "tags": null
          },
          "name": "stderr",
          "output_type": "stream",
          "text": [
            "Training 23: 100%|██████████| 625/625 [01:22<00:00,  7.60it/s]\n",
            "Validation: 100%|██████████| 157/157 [00:14<00:00, 10.68it/s]\n"
          ]
        },
        {
          "metadata": {
            "tags": null
          },
          "name": "stdout",
          "output_type": "stream",
          "text": [
            "Training loss: 0.009\n",
            "Training accuracy: 73.639%\n",
            "Validation loss: 0.759\n",
            "Validation accuracy: 71.347%\n"
          ]
        },
        {
          "metadata": {
            "tags": null
          },
          "name": "stderr",
          "output_type": "stream",
          "text": [
            "Training 24: 100%|██████████| 625/625 [01:20<00:00,  7.80it/s]\n",
            "Validation: 100%|██████████| 157/157 [00:14<00:00, 10.60it/s]\n"
          ]
        },
        {
          "metadata": {
            "tags": null
          },
          "name": "stdout",
          "output_type": "stream",
          "text": [
            "Training loss: 0.009\n",
            "Training accuracy: 73.922%\n",
            "Validation loss: 0.755\n",
            "Validation accuracy: 71.501%\n"
          ]
        },
        {
          "metadata": {
            "tags": null
          },
          "name": "stderr",
          "output_type": "stream",
          "text": [
            "Training 25: 100%|██████████| 625/625 [01:19<00:00,  7.83it/s]\n",
            "Validation: 100%|██████████| 157/157 [00:16<00:00,  9.55it/s]\n"
          ]
        },
        {
          "metadata": {
            "tags": null
          },
          "name": "stdout",
          "output_type": "stream",
          "text": [
            "Training loss: 0.009\n",
            "Training accuracy: 74.188%\n",
            "Validation loss: 0.774\n",
            "Validation accuracy: 71.616%\n"
          ]
        },
        {
          "metadata": {
            "tags": null
          },
          "name": "stderr",
          "output_type": "stream",
          "text": [
            "Training 26: 100%|██████████| 625/625 [01:21<00:00,  7.64it/s]\n",
            "Validation: 100%|██████████| 157/157 [00:14<00:00, 10.85it/s]\n"
          ]
        },
        {
          "metadata": {
            "tags": null
          },
          "name": "stdout",
          "output_type": "stream",
          "text": [
            "Training loss: 0.009\n",
            "Training accuracy: 74.435%\n",
            "Validation loss: 0.798\n",
            "Validation accuracy: 71.715%\n"
          ]
        },
        {
          "metadata": {
            "tags": null
          },
          "name": "stderr",
          "output_type": "stream",
          "text": [
            "Training 27: 100%|██████████| 625/625 [01:19<00:00,  7.81it/s]\n",
            "Validation: 100%|██████████| 157/157 [00:14<00:00, 10.61it/s]\n"
          ]
        },
        {
          "metadata": {
            "tags": null
          },
          "name": "stdout",
          "output_type": "stream",
          "text": [
            "Training loss: 0.009\n",
            "Training accuracy: 74.669%\n",
            "Validation loss: 0.758\n",
            "Validation accuracy: 71.835%\n"
          ]
        },
        {
          "metadata": {
            "tags": null
          },
          "name": "stderr",
          "output_type": "stream",
          "text": [
            "Training 28: 100%|██████████| 625/625 [01:21<00:00,  7.65it/s]\n",
            "Validation: 100%|██████████| 157/157 [00:14<00:00, 10.65it/s]\n"
          ]
        },
        {
          "metadata": {
            "tags": null
          },
          "name": "stdout",
          "output_type": "stream",
          "text": [
            "Training loss: 0.009\n",
            "Training accuracy: 74.894%\n",
            "Validation loss: 0.734\n",
            "Validation accuracy: 71.986%\n"
          ]
        },
        {
          "metadata": {
            "tags": null
          },
          "name": "stderr",
          "output_type": "stream",
          "text": [
            "Training 29: 100%|██████████| 625/625 [01:19<00:00,  7.81it/s]\n",
            "Validation: 100%|██████████| 157/157 [00:14<00:00, 10.64it/s]\n"
          ]
        },
        {
          "metadata": {
            "tags": null
          },
          "name": "stdout",
          "output_type": "stream",
          "text": [
            "Training loss: 0.008\n",
            "Training accuracy: 75.110%\n",
            "Validation loss: 0.765\n",
            "Validation accuracy: 72.087%\n"
          ]
        },
        {
          "metadata": {
            "tags": null
          },
          "name": "stderr",
          "output_type": "stream",
          "text": [
            "Training 30: 100%|██████████| 625/625 [01:21<00:00,  7.66it/s]\n",
            "Validation: 100%|██████████| 157/157 [00:14<00:00, 10.71it/s]\n"
          ]
        },
        {
          "metadata": {
            "tags": null
          },
          "name": "stdout",
          "output_type": "stream",
          "text": [
            "Training loss: 0.008\n",
            "Training accuracy: 75.313%\n",
            "Validation loss: 0.748\n",
            "Validation accuracy: 72.180%\n"
          ]
        },
        {
          "metadata": {
            "tags": null
          },
          "name": "stderr",
          "output_type": "stream",
          "text": [
            "Training 31: 100%|██████████| 625/625 [01:21<00:00,  7.68it/s]\n",
            "Validation: 100%|██████████| 157/157 [00:14<00:00, 10.95it/s]\n"
          ]
        },
        {
          "metadata": {
            "tags": null
          },
          "name": "stdout",
          "output_type": "stream",
          "text": [
            "Training loss: 0.008\n",
            "Training accuracy: 75.512%\n",
            "Validation loss: 0.748\n",
            "Validation accuracy: 72.277%\n"
          ]
        },
        {
          "metadata": {
            "tags": null
          },
          "name": "stderr",
          "output_type": "stream",
          "text": [
            "Training 32: 100%|██████████| 625/625 [01:20<00:00,  7.72it/s]\n",
            "Validation: 100%|██████████| 157/157 [00:16<00:00,  9.48it/s]\n"
          ]
        },
        {
          "metadata": {
            "tags": null
          },
          "name": "stdout",
          "output_type": "stream",
          "text": [
            "Training loss: 0.008\n",
            "Training accuracy: 75.702%\n",
            "Validation loss: 0.735\n",
            "Validation accuracy: 72.393%\n"
          ]
        },
        {
          "metadata": {
            "tags": null
          },
          "name": "stderr",
          "output_type": "stream",
          "text": [
            "Training 33: 100%|██████████| 625/625 [01:20<00:00,  7.81it/s]\n",
            "Validation: 100%|██████████| 157/157 [00:14<00:00, 10.70it/s]\n"
          ]
        },
        {
          "metadata": {
            "tags": null
          },
          "name": "stdout",
          "output_type": "stream",
          "text": [
            "Training loss: 0.008\n",
            "Training accuracy: 75.871%\n",
            "Validation loss: 0.756\n",
            "Validation accuracy: 72.483%\n"
          ]
        },
        {
          "metadata": {
            "tags": null
          },
          "name": "stderr",
          "output_type": "stream",
          "text": [
            "Training 34: 100%|██████████| 625/625 [01:19<00:00,  7.82it/s]\n",
            "Validation: 100%|██████████| 157/157 [00:14<00:00, 10.59it/s]\n"
          ]
        },
        {
          "metadata": {
            "tags": null
          },
          "name": "stdout",
          "output_type": "stream",
          "text": [
            "Training loss: 0.008\n",
            "Training accuracy: 76.051%\n",
            "Validation loss: 0.755\n",
            "Validation accuracy: 72.568%\n"
          ]
        },
        {
          "metadata": {
            "tags": null
          },
          "name": "stderr",
          "output_type": "stream",
          "text": [
            "Training 35: 100%|██████████| 625/625 [01:22<00:00,  7.60it/s]\n",
            "Validation: 100%|██████████| 157/157 [00:14<00:00, 10.90it/s]\n"
          ]
        },
        {
          "metadata": {
            "tags": null
          },
          "name": "stdout",
          "output_type": "stream",
          "text": [
            "Training loss: 0.008\n",
            "Training accuracy: 76.221%\n",
            "Validation loss: 0.749\n",
            "Validation accuracy: 72.651%\n"
          ]
        },
        {
          "metadata": {
            "tags": null
          },
          "name": "stderr",
          "output_type": "stream",
          "text": [
            "Training 36: 100%|██████████| 625/625 [01:21<00:00,  7.65it/s]\n",
            "Validation: 100%|██████████| 157/157 [00:14<00:00, 10.94it/s]\n"
          ]
        },
        {
          "metadata": {
            "tags": null
          },
          "name": "stdout",
          "output_type": "stream",
          "text": [
            "Training loss: 0.008\n",
            "Training accuracy: 76.383%\n",
            "Validation loss: 0.780\n",
            "Validation accuracy: 72.732%\n"
          ]
        },
        {
          "metadata": {
            "tags": null
          },
          "name": "stderr",
          "output_type": "stream",
          "text": [
            "Training 37: 100%|██████████| 625/625 [01:22<00:00,  7.61it/s]\n",
            "Validation: 100%|██████████| 157/157 [00:14<00:00, 10.73it/s]\n"
          ]
        },
        {
          "metadata": {
            "tags": null
          },
          "name": "stdout",
          "output_type": "stream",
          "text": [
            "Training loss: 0.008\n",
            "Training accuracy: 76.540%\n",
            "Validation loss: 0.755\n",
            "Validation accuracy: 72.811%\n"
          ]
        },
        {
          "metadata": {
            "tags": null
          },
          "name": "stderr",
          "output_type": "stream",
          "text": [
            "Training 38: 100%|██████████| 625/625 [01:19<00:00,  7.82it/s]\n",
            "Validation: 100%|██████████| 157/157 [00:14<00:00, 10.69it/s]\n"
          ]
        },
        {
          "metadata": {
            "tags": null
          },
          "name": "stdout",
          "output_type": "stream",
          "text": [
            "Training loss: 0.008\n",
            "Training accuracy: 76.683%\n",
            "Validation loss: 0.763\n",
            "Validation accuracy: 72.869%\n"
          ]
        },
        {
          "metadata": {
            "tags": null
          },
          "name": "stderr",
          "output_type": "stream",
          "text": [
            "Training 39: 100%|██████████| 625/625 [01:19<00:00,  7.84it/s]\n",
            "Validation: 100%|██████████| 157/157 [00:16<00:00,  9.37it/s]\n"
          ]
        },
        {
          "metadata": {
            "tags": null
          },
          "name": "stdout",
          "output_type": "stream",
          "text": [
            "Training loss: 0.008\n",
            "Training accuracy: 76.831%\n",
            "Validation loss: 0.767\n",
            "Validation accuracy: 72.937%\n"
          ]
        },
        {
          "metadata": {
            "tags": null
          },
          "name": "stderr",
          "output_type": "stream",
          "text": [
            "Training 40: 100%|██████████| 625/625 [01:19<00:00,  7.83it/s]\n",
            "Validation: 100%|██████████| 157/157 [00:14<00:00, 10.72it/s]\n"
          ]
        },
        {
          "metadata": {
            "tags": null
          },
          "name": "stdout",
          "output_type": "stream",
          "text": [
            "Training loss: 0.008\n",
            "Training accuracy: 76.969%\n",
            "Validation loss: 0.759\n",
            "Validation accuracy: 73.008%\n"
          ]
        },
        {
          "metadata": {
            "tags": null
          },
          "name": "stderr",
          "output_type": "stream",
          "text": [
            "Training 41: 100%|██████████| 625/625 [01:19<00:00,  7.88it/s]\n",
            "Validation: 100%|██████████| 157/157 [00:14<00:00, 10.67it/s]\n"
          ]
        },
        {
          "metadata": {
            "tags": null
          },
          "name": "stdout",
          "output_type": "stream",
          "text": [
            "Training loss: 0.008\n",
            "Training accuracy: 77.099%\n",
            "Validation loss: 0.748\n",
            "Validation accuracy: 73.080%\n"
          ]
        },
        {
          "metadata": {
            "tags": null
          },
          "name": "stderr",
          "output_type": "stream",
          "text": [
            "Training 42: 100%|██████████| 625/625 [01:23<00:00,  7.47it/s]\n",
            "Validation: 100%|██████████| 157/157 [00:14<00:00, 10.78it/s]\n"
          ]
        },
        {
          "metadata": {
            "tags": null
          },
          "name": "stdout",
          "output_type": "stream",
          "text": [
            "Training loss: 0.008\n",
            "Training accuracy: 77.236%\n",
            "Validation loss: 0.736\n",
            "Validation accuracy: 73.146%\n"
          ]
        },
        {
          "metadata": {
            "tags": null
          },
          "name": "stderr",
          "output_type": "stream",
          "text": [
            "Training 43: 100%|██████████| 625/625 [01:19<00:00,  7.87it/s]\n",
            "Validation: 100%|██████████| 157/157 [00:14<00:00, 10.75it/s]\n"
          ]
        },
        {
          "metadata": {
            "tags": null
          },
          "name": "stdout",
          "output_type": "stream",
          "text": [
            "Training loss: 0.008\n",
            "Training accuracy: 77.368%\n",
            "Validation loss: 0.771\n",
            "Validation accuracy: 73.210%\n"
          ]
        },
        {
          "metadata": {
            "tags": null
          },
          "name": "stderr",
          "output_type": "stream",
          "text": [
            "Training 44: 100%|██████████| 625/625 [01:21<00:00,  7.68it/s]\n",
            "Validation: 100%|██████████| 157/157 [00:14<00:00, 10.70it/s]\n"
          ]
        },
        {
          "metadata": {
            "tags": null
          },
          "name": "stdout",
          "output_type": "stream",
          "text": [
            "Training loss: 0.008\n",
            "Training accuracy: 77.494%\n",
            "Validation loss: 0.784\n",
            "Validation accuracy: 73.262%\n"
          ]
        },
        {
          "metadata": {
            "tags": null
          },
          "name": "stderr",
          "output_type": "stream",
          "text": [
            "Training 45: 100%|██████████| 625/625 [01:19<00:00,  7.88it/s]\n",
            "Validation: 100%|██████████| 157/157 [00:14<00:00, 10.80it/s]\n"
          ]
        },
        {
          "metadata": {
            "tags": null
          },
          "name": "stdout",
          "output_type": "stream",
          "text": [
            "Training loss: 0.008\n",
            "Training accuracy: 77.616%\n",
            "Validation loss: 0.763\n",
            "Validation accuracy: 73.319%\n"
          ]
        },
        {
          "metadata": {
            "tags": null
          },
          "name": "stderr",
          "output_type": "stream",
          "text": [
            "Training 46: 100%|██████████| 625/625 [01:21<00:00,  7.65it/s]\n",
            "Validation: 100%|██████████| 157/157 [00:14<00:00, 11.01it/s]\n"
          ]
        },
        {
          "metadata": {
            "tags": null
          },
          "name": "stdout",
          "output_type": "stream",
          "text": [
            "Training loss: 0.008\n",
            "Training accuracy: 77.733%\n",
            "Validation loss: 0.754\n",
            "Validation accuracy: 73.386%\n"
          ]
        },
        {
          "output_type": "stream",
          "name": "stderr",
          "text": [
            "Training 47: 100%|██████████| 625/625 [01:21<00:00,  7.67it/s]\n",
            "Validation: 100%|██████████| 157/157 [00:14<00:00, 11.02it/s]\n"
          ]
        },
        {
          "output_type": "stream",
          "name": "stdout",
          "text": [
            "Training loss: 0.008\n",
            "Training accuracy: 77.848%\n",
            "Validation loss: 0.752\n",
            "Validation accuracy: 73.452%\n"
          ]
        },
        {
          "output_type": "stream",
          "name": "stderr",
          "text": [
            "Training 48: 100%|██████████| 625/625 [01:18<00:00,  7.97it/s]\n",
            "Validation: 100%|██████████| 157/157 [00:14<00:00, 10.95it/s]\n"
          ]
        },
        {
          "output_type": "stream",
          "name": "stdout",
          "text": [
            "Training loss: 0.007\n",
            "Training accuracy: 77.958%\n",
            "Validation loss: 0.772\n",
            "Validation accuracy: 73.505%\n"
          ]
        },
        {
          "output_type": "stream",
          "name": "stderr",
          "text": [
            "Training 49: 100%|██████████| 625/625 [01:20<00:00,  7.78it/s]\n",
            "Validation: 100%|██████████| 157/157 [00:14<00:00, 11.08it/s]\n"
          ]
        },
        {
          "output_type": "stream",
          "name": "stdout",
          "text": [
            "Training loss: 0.007\n",
            "Training accuracy: 78.063%\n",
            "Validation loss: 0.763\n",
            "Validation accuracy: 73.547%\n"
          ]
        },
        {
          "output_type": "stream",
          "name": "stderr",
          "text": [
            "Training 50: 100%|██████████| 625/625 [01:20<00:00,  7.80it/s]\n",
            "Validation: 100%|██████████| 157/157 [00:14<00:00, 10.96it/s]\n"
          ]
        },
        {
          "output_type": "stream",
          "name": "stdout",
          "text": [
            "Training loss: 0.008\n",
            "Training accuracy: 78.162%\n",
            "Validation loss: 0.770\n",
            "Validation accuracy: 73.596%\n"
          ]
        },
        {
          "output_type": "stream",
          "name": "stderr",
          "text": [
            "Training 51: 100%|██████████| 625/625 [01:19<00:00,  7.84it/s]\n",
            "Validation: 100%|██████████| 157/157 [00:14<00:00, 10.94it/s]\n"
          ]
        },
        {
          "output_type": "stream",
          "name": "stdout",
          "text": [
            "Training loss: 0.007\n",
            "Training accuracy: 78.261%\n",
            "Validation loss: 0.753\n",
            "Validation accuracy: 73.650%\n"
          ]
        },
        {
          "output_type": "stream",
          "name": "stderr",
          "text": [
            "Training 52: 100%|██████████| 625/625 [01:19<00:00,  7.86it/s]\n",
            "Validation: 100%|██████████| 157/157 [00:14<00:00, 11.00it/s]\n"
          ]
        },
        {
          "output_type": "stream",
          "name": "stdout",
          "text": [
            "Training loss: 0.007\n",
            "Training accuracy: 78.358%\n",
            "Validation loss: 0.747\n",
            "Validation accuracy: 73.701%\n"
          ]
        },
        {
          "output_type": "stream",
          "name": "stderr",
          "text": [
            "Training 53: 100%|██████████| 625/625 [01:19<00:00,  7.85it/s]\n",
            "Validation: 100%|██████████| 157/157 [00:14<00:00, 11.01it/s]\n"
          ]
        },
        {
          "output_type": "stream",
          "name": "stdout",
          "text": [
            "Training loss: 0.007\n",
            "Training accuracy: 78.449%\n",
            "Validation loss: 0.751\n",
            "Validation accuracy: 73.752%\n"
          ]
        },
        {
          "output_type": "stream",
          "name": "stderr",
          "text": [
            "Training 54: 100%|██████████| 625/625 [01:19<00:00,  7.87it/s]\n",
            "Validation: 100%|██████████| 157/157 [00:14<00:00, 11.06it/s]\n"
          ]
        },
        {
          "output_type": "stream",
          "name": "stdout",
          "text": [
            "Training loss: 0.007\n",
            "Training accuracy: 78.542%\n",
            "Validation loss: 0.795\n",
            "Validation accuracy: 73.780%\n"
          ]
        },
        {
          "output_type": "stream",
          "name": "stderr",
          "text": [
            "Training 55: 100%|██████████| 625/625 [01:19<00:00,  7.86it/s]\n",
            "Validation: 100%|██████████| 157/157 [00:15<00:00, 10.38it/s]\n"
          ]
        },
        {
          "output_type": "stream",
          "name": "stdout",
          "text": [
            "Training loss: 0.007\n",
            "Training accuracy: 78.633%\n",
            "Validation loss: 0.774\n",
            "Validation accuracy: 73.820%\n"
          ]
        },
        {
          "output_type": "stream",
          "name": "stderr",
          "text": [
            "Training 56: 100%|██████████| 625/625 [01:19<00:00,  7.84it/s]\n",
            "Validation: 100%|██████████| 157/157 [00:14<00:00, 10.72it/s]\n"
          ]
        },
        {
          "output_type": "stream",
          "name": "stdout",
          "text": [
            "Training loss: 0.007\n",
            "Training accuracy: 78.727%\n",
            "Validation loss: 0.795\n",
            "Validation accuracy: 73.849%\n"
          ]
        },
        {
          "output_type": "stream",
          "name": "stderr",
          "text": [
            "Training 57: 100%|██████████| 625/625 [01:21<00:00,  7.70it/s]\n",
            "Validation: 100%|██████████| 157/157 [00:14<00:00, 10.55it/s]\n"
          ]
        },
        {
          "output_type": "stream",
          "name": "stdout",
          "text": [
            "Training loss: 0.007\n",
            "Training accuracy: 78.819%\n",
            "Validation loss: 0.768\n",
            "Validation accuracy: 73.880%\n"
          ]
        },
        {
          "output_type": "stream",
          "name": "stderr",
          "text": [
            "Training 58: 100%|██████████| 625/625 [01:20<00:00,  7.75it/s]\n",
            "Validation: 100%|██████████| 157/157 [00:14<00:00, 10.91it/s]\n"
          ]
        },
        {
          "output_type": "stream",
          "name": "stdout",
          "text": [
            "Training loss: 0.007\n",
            "Training accuracy: 78.903%\n",
            "Validation loss: 0.770\n",
            "Validation accuracy: 73.921%\n"
          ]
        },
        {
          "output_type": "stream",
          "name": "stderr",
          "text": [
            "Training 59: 100%|██████████| 625/625 [01:19<00:00,  7.91it/s]\n",
            "Validation: 100%|██████████| 157/157 [00:14<00:00, 11.03it/s]\n"
          ]
        },
        {
          "output_type": "stream",
          "name": "stdout",
          "text": [
            "Training loss: 0.007\n",
            "Training accuracy: 78.983%\n",
            "Validation loss: 0.779\n",
            "Validation accuracy: 73.957%\n"
          ]
        },
        {
          "output_type": "stream",
          "name": "stderr",
          "text": [
            "Training 60: 100%|██████████| 625/625 [01:17<00:00,  8.04it/s]\n",
            "Validation: 100%|██████████| 157/157 [00:15<00:00,  9.89it/s]\n"
          ]
        },
        {
          "output_type": "stream",
          "name": "stdout",
          "text": [
            "Training loss: 0.007\n",
            "Training accuracy: 79.067%\n",
            "Validation loss: 0.747\n",
            "Validation accuracy: 74.003%\n"
          ]
        },
        {
          "output_type": "stream",
          "name": "stderr",
          "text": [
            "Training 61: 100%|██████████| 625/625 [01:19<00:00,  7.88it/s]\n",
            "Validation: 100%|██████████| 157/157 [00:14<00:00, 11.05it/s]\n"
          ]
        },
        {
          "output_type": "stream",
          "name": "stdout",
          "text": [
            "Training loss: 0.007\n",
            "Training accuracy: 79.144%\n",
            "Validation loss: 0.766\n",
            "Validation accuracy: 74.039%\n"
          ]
        },
        {
          "output_type": "stream",
          "name": "stderr",
          "text": [
            "Training 62: 100%|██████████| 625/625 [01:18<00:00,  8.01it/s]\n",
            "Validation: 100%|██████████| 157/157 [00:14<00:00, 11.01it/s]\n"
          ]
        },
        {
          "output_type": "stream",
          "name": "stdout",
          "text": [
            "Training loss: 0.007\n",
            "Training accuracy: 79.226%\n",
            "Validation loss: 0.741\n",
            "Validation accuracy: 74.089%\n"
          ]
        },
        {
          "output_type": "stream",
          "name": "stderr",
          "text": [
            "Training 63: 100%|██████████| 625/625 [01:20<00:00,  7.75it/s]\n",
            "Validation: 100%|██████████| 157/157 [00:14<00:00, 11.03it/s]\n"
          ]
        },
        {
          "output_type": "stream",
          "name": "stdout",
          "text": [
            "Training loss: 0.007\n",
            "Training accuracy: 79.305%\n",
            "Validation loss: 0.771\n",
            "Validation accuracy: 74.118%\n"
          ]
        },
        {
          "output_type": "stream",
          "name": "stderr",
          "text": [
            "Training 64: 100%|██████████| 625/625 [01:22<00:00,  7.62it/s]\n",
            "Validation: 100%|██████████| 157/157 [00:14<00:00, 11.13it/s]\n"
          ]
        },
        {
          "output_type": "stream",
          "name": "stdout",
          "text": [
            "Training loss: 0.007\n",
            "Training accuracy: 79.382%\n",
            "Validation loss: 0.751\n",
            "Validation accuracy: 74.154%\n"
          ]
        },
        {
          "output_type": "stream",
          "name": "stderr",
          "text": [
            "Training 65: 100%|██████████| 625/625 [01:19<00:00,  7.84it/s]\n",
            "Validation: 100%|██████████| 157/157 [00:14<00:00, 11.00it/s]\n"
          ]
        },
        {
          "output_type": "stream",
          "name": "stdout",
          "text": [
            "Training loss: 0.007\n",
            "Training accuracy: 79.452%\n",
            "Validation loss: 0.773\n",
            "Validation accuracy: 74.178%\n"
          ]
        },
        {
          "output_type": "stream",
          "name": "stderr",
          "text": [
            "Training 66: 100%|██████████| 625/625 [01:18<00:00,  7.96it/s]\n",
            "Validation: 100%|██████████| 157/157 [00:14<00:00, 10.93it/s]\n"
          ]
        },
        {
          "output_type": "stream",
          "name": "stdout",
          "text": [
            "Training loss: 0.007\n",
            "Training accuracy: 79.523%\n",
            "Validation loss: 0.755\n",
            "Validation accuracy: 74.208%\n"
          ]
        },
        {
          "output_type": "stream",
          "name": "stderr",
          "text": [
            "Training 67: 100%|██████████| 625/625 [01:21<00:00,  7.66it/s]\n",
            "Validation: 100%|██████████| 157/157 [00:14<00:00, 10.92it/s]\n"
          ]
        },
        {
          "output_type": "stream",
          "name": "stdout",
          "text": [
            "Training loss: 0.007\n",
            "Training accuracy: 79.595%\n",
            "Validation loss: 0.757\n",
            "Validation accuracy: 74.240%\n"
          ]
        },
        {
          "output_type": "stream",
          "name": "stderr",
          "text": [
            "Training 68: 100%|██████████| 625/625 [01:20<00:00,  7.78it/s]\n",
            "Validation: 100%|██████████| 157/157 [00:14<00:00, 10.80it/s]\n"
          ]
        },
        {
          "output_type": "stream",
          "name": "stdout",
          "text": [
            "Training loss: 0.007\n",
            "Training accuracy: 79.664%\n",
            "Validation loss: 0.762\n",
            "Validation accuracy: 74.270%\n"
          ]
        },
        {
          "output_type": "stream",
          "name": "stderr",
          "text": [
            "Training 69: 100%|██████████| 625/625 [01:18<00:00,  7.93it/s]\n",
            "Validation: 100%|██████████| 157/157 [00:15<00:00,  9.84it/s]\n"
          ]
        },
        {
          "output_type": "stream",
          "name": "stdout",
          "text": [
            "Training loss: 0.007\n",
            "Training accuracy: 79.729%\n",
            "Validation loss: 0.791\n",
            "Validation accuracy: 74.305%\n"
          ]
        },
        {
          "output_type": "stream",
          "name": "stderr",
          "text": [
            "Training 70: 100%|██████████| 625/625 [01:19<00:00,  7.89it/s]\n",
            "Validation: 100%|██████████| 157/157 [00:14<00:00, 10.86it/s]\n"
          ]
        },
        {
          "output_type": "stream",
          "name": "stdout",
          "text": [
            "Training loss: 0.007\n",
            "Training accuracy: 79.790%\n",
            "Validation loss: 0.764\n",
            "Validation accuracy: 74.342%\n"
          ]
        },
        {
          "output_type": "stream",
          "name": "stderr",
          "text": [
            "Training 71: 100%|██████████| 625/625 [01:18<00:00,  7.99it/s]\n",
            "Validation: 100%|██████████| 157/157 [00:14<00:00, 11.00it/s]\n"
          ]
        },
        {
          "output_type": "stream",
          "name": "stdout",
          "text": [
            "Training loss: 0.007\n",
            "Training accuracy: 79.858%\n",
            "Validation loss: 0.789\n",
            "Validation accuracy: 74.363%\n"
          ]
        },
        {
          "output_type": "stream",
          "name": "stderr",
          "text": [
            "Training 72: 100%|██████████| 625/625 [01:20<00:00,  7.77it/s]\n",
            "Validation: 100%|██████████| 157/157 [00:14<00:00, 11.07it/s]\n"
          ]
        },
        {
          "output_type": "stream",
          "name": "stdout",
          "text": [
            "Training loss: 0.007\n",
            "Training accuracy: 79.918%\n",
            "Validation loss: 0.773\n",
            "Validation accuracy: 74.394%\n"
          ]
        },
        {
          "output_type": "stream",
          "name": "stderr",
          "text": [
            "Training 73: 100%|██████████| 625/625 [01:18<00:00,  8.01it/s]\n",
            "Validation: 100%|██████████| 157/157 [00:14<00:00, 10.99it/s]\n"
          ]
        },
        {
          "output_type": "stream",
          "name": "stdout",
          "text": [
            "Training loss: 0.007\n",
            "Training accuracy: 79.976%\n",
            "Validation loss: 0.771\n",
            "Validation accuracy: 74.418%\n"
          ]
        },
        {
          "output_type": "stream",
          "name": "stderr",
          "text": [
            "Training 74: 100%|██████████| 625/625 [01:20<00:00,  7.76it/s]\n",
            "Validation: 100%|██████████| 157/157 [00:14<00:00, 10.97it/s]\n"
          ]
        },
        {
          "output_type": "stream",
          "name": "stdout",
          "text": [
            "Training loss: 0.007\n",
            "Training accuracy: 80.038%\n",
            "Validation loss: 0.798\n",
            "Validation accuracy: 74.434%\n"
          ]
        },
        {
          "output_type": "stream",
          "name": "stderr",
          "text": [
            "Training 75: 100%|██████████| 625/625 [01:18<00:00,  7.95it/s]\n",
            "Validation: 100%|██████████| 157/157 [00:14<00:00, 10.92it/s]\n"
          ]
        },
        {
          "output_type": "stream",
          "name": "stdout",
          "text": [
            "Training loss: 0.007\n",
            "Training accuracy: 80.098%\n",
            "Validation loss: 0.781\n",
            "Validation accuracy: 74.462%\n"
          ]
        },
        {
          "output_type": "stream",
          "name": "stderr",
          "text": [
            "Training 76: 100%|██████████| 625/625 [01:20<00:00,  7.72it/s]\n",
            "Validation: 100%|██████████| 157/157 [00:14<00:00, 10.99it/s]\n"
          ]
        },
        {
          "output_type": "stream",
          "name": "stdout",
          "text": [
            "Training loss: 0.007\n",
            "Training accuracy: 80.158%\n",
            "Validation loss: 0.759\n",
            "Validation accuracy: 74.490%\n"
          ]
        },
        {
          "output_type": "stream",
          "name": "stderr",
          "text": [
            "Training 77: 100%|██████████| 625/625 [01:18<00:00,  7.98it/s]\n",
            "Validation: 100%|██████████| 157/157 [00:14<00:00, 10.86it/s]\n"
          ]
        },
        {
          "output_type": "stream",
          "name": "stdout",
          "text": [
            "Training loss: 0.007\n",
            "Training accuracy: 80.215%\n",
            "Validation loss: 0.765\n",
            "Validation accuracy: 74.508%\n"
          ]
        },
        {
          "output_type": "stream",
          "name": "stderr",
          "text": [
            "Training 78: 100%|██████████| 625/625 [01:21<00:00,  7.67it/s]\n",
            "Validation: 100%|██████████| 157/157 [00:14<00:00, 10.94it/s]\n"
          ]
        },
        {
          "output_type": "stream",
          "name": "stdout",
          "text": [
            "Training loss: 0.007\n",
            "Training accuracy: 80.272%\n",
            "Validation loss: 0.790\n",
            "Validation accuracy: 74.522%\n"
          ]
        },
        {
          "output_type": "stream",
          "name": "stderr",
          "text": [
            "Training 79: 100%|██████████| 625/625 [01:18<00:00,  7.92it/s]\n",
            "Validation: 100%|██████████| 157/157 [00:14<00:00, 10.68it/s]\n"
          ]
        },
        {
          "output_type": "stream",
          "name": "stdout",
          "text": [
            "Training loss: 0.007\n",
            "Training accuracy: 80.330%\n",
            "Validation loss: 0.813\n",
            "Validation accuracy: 74.536%\n"
          ]
        },
        {
          "output_type": "stream",
          "name": "stderr",
          "text": [
            "Training 80: 100%|██████████| 625/625 [01:21<00:00,  7.65it/s]\n",
            "Validation: 100%|██████████| 157/157 [00:14<00:00, 11.00it/s]\n"
          ]
        },
        {
          "output_type": "stream",
          "name": "stdout",
          "text": [
            "Training loss: 0.007\n",
            "Training accuracy: 80.385%\n",
            "Validation loss: 0.778\n",
            "Validation accuracy: 74.556%\n"
          ]
        }
      ],
      "source": [
        "# Training loop\n",
        "num_epochs = 80\n",
        "for epoch in range(num_epochs):\n",
        "    running_loss = 0\n",
        "    num_processed = 0\n",
        "    for i, (inputs, labels) in enumerate(tqdm(trainloader, desc=f'Training {epoch+1}')):\n",
        "        # Reset the gradient\n",
        "        optimizer.zero_grad()\n",
        "        # Forward pass\n",
        "        outputs = net(inputs)\n",
        "        # Loss computing\n",
        "        loss = criterion(outputs, labels)\n",
        "        # Backward pass\n",
        "        loss.backward()\n",
        "        # Optimize model\n",
        "        optimizer.step()\n",
        "        _, predicted = outputs.max(1)\n",
        "        # Accuracy computing\n",
        "        train_acc(predicted, labels)\n",
        "        running_loss += loss.item()\n",
        "        num_processed += len(labels)\n",
        "\n",
        "    # Validation loop\n",
        "    net.eval()  # Set the model to evaluation mode\n",
        "    val_loss = 0.0\n",
        "    correct = 0\n",
        "    total = 0\n",
        "    with torch.no_grad():\n",
        "        for data in tqdm(valloader, desc=f'Validation'):\n",
        "            inputs, labels = data\n",
        "            outputs = net(inputs)\n",
        "            loss = criterion(outputs, labels)\n",
        "            val_loss += loss.item()\n",
        "            # Set total and correct\n",
        "            _, predicted = outputs.max(1)\n",
        "            val_acc(predicted, labels)\n",
        "\n",
        "    net.train()\n",
        "\n",
        "    # Print the training and validation loss and accuracy\n",
        "    print(f'Training loss: {running_loss / num_processed:.3f}')\n",
        "    print(f'Training accuracy: {100 * train_acc.compute():.3f}%')\n",
        "\n",
        "    print(f'Validation loss: {val_loss / len(valloader):.3f}')\n",
        "    print(f'Validation accuracy: {100 * val_acc.compute():.3f}%')\n"
      ]
    },
    {
      "cell_type": "code",
      "execution_count": null,
      "metadata": {
        "id": "ynhSuA2JT263"
      },
      "outputs": [],
      "source": [
        "torch.save(net, '/content/drive/MyDrive/modeladam.pth')"
      ]
    },
    {
      "cell_type": "markdown",
      "metadata": {
        "id": "dcWfLOz2K7qj"
      },
      "source": [
        "## Testing and Evaluation"
      ]
    },
    {
      "cell_type": "code",
      "execution_count": null,
      "metadata": {
        "id": "Jgy_qBTm1eBL",
        "colab": {
          "base_uri": "https://localhost:8080/"
        },
        "outputId": "da8c9cdd-5e8a-4c4d-e7f4-1b664eb92843"
      },
      "outputs": [
        {
          "output_type": "stream",
          "name": "stderr",
          "text": [
            "Testing: 100%|██████████| 157/157 [00:10<00:00, 15.33it/s]"
          ]
        },
        {
          "output_type": "stream",
          "name": "stdout",
          "text": [
            "Test loss: 0.768\n",
            "Test accuracy: 77.34\n",
            "Test Precision: 77.27\n",
            "Test Recall: 77.34\n",
            "Test F1-score: 77.11\n"
          ]
        },
        {
          "output_type": "stream",
          "name": "stderr",
          "text": [
            "\n"
          ]
        }
      ],
      "source": [
        "net = torch.load('/content/drive/MyDrive/modeladam.pth')\n",
        "net.eval()  # Set the model to evaluation mode\n",
        "\n",
        "criterion = nn.CrossEntropyLoss()\n",
        "test_acc = Accuracy (task='multiclass', num_classes=10)\n",
        "test_precision = Precision (task='multiclass', num_classes=10, average=\"weighted\")\n",
        "test_recall = Recall (task='multiclass', num_classes=10, average=\"weighted\")\n",
        "test_f1score = F1Score (task='multiclass', num_classes=10, average=\"weighted\")\n",
        "\n",
        "test_loss = 0.0\n",
        "# correct = 0\n",
        "# total = 0\n",
        "# all_labels = []\n",
        "# all_predictions = []\n",
        "\n",
        "with torch.no_grad():\n",
        "    for data in tqdm(testloader, desc='Testing'):\n",
        "        inputs, labels = data\n",
        "        outputs = net(inputs)\n",
        "        loss = criterion(outputs, labels)\n",
        "        test_loss += loss.item()\n",
        "\n",
        "        # Collect predictions and ground truth labels for later analysis\n",
        "        _, predicted = outputs.max(1)\n",
        "        test_acc(predicted, labels)\n",
        "        test_precision(predicted, labels)\n",
        "        test_recall(predicted, labels)\n",
        "        test_f1score(predicted, labels)\n",
        "\n",
        "# Print the test loss and accuracy\n",
        "print(f'Test loss: {test_loss / len(testloader):.3f}')\n",
        "print(f'Test accuracy: {100 * test_acc.compute():.2f}')\n",
        "print(f'Test Precision: {100 * test_precision.compute():.2f}')\n",
        "print(f'Test Recall: {100 * test_recall.compute():.2f}')\n",
        "print(f'Test F1-score: {100 * test_f1score.compute():.2f}')"
      ]
    },
    {
      "cell_type": "code",
      "execution_count": null,
      "metadata": {
        "id": "pqoy046dEFya"
      },
      "outputs": [],
      "source": []
    }
  ],
  "metadata": {
    "colab": {
      "provenance": []
    },
    "kernelspec": {
      "display_name": "Python 3",
      "name": "python3"
    },
    "language_info": {
      "name": "python"
    }
  },
  "nbformat": 4,
  "nbformat_minor": 0
}