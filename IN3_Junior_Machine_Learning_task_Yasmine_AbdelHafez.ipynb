{
  "cells": [
    {
      "cell_type": "markdown",
      "metadata": {
        "id": "lN5ZmOXIwS0a"
      },
      "source": [
        "## Imports and Mounting"
      ]
    },
    {
      "cell_type": "code",
      "source": [
        "# Mount Google Drive\n",
        "from google.colab import drive\n",
        "drive.mount('/content/drive')"
      ],
      "metadata": {
        "colab": {
          "base_uri": "https://localhost:8080/"
        },
        "id": "kREhaORsNXe5",
        "outputId": "3fe20818-36f5-4053-d744-ffd77b287545"
      },
      "execution_count": 9,
      "outputs": [
        {
          "output_type": "stream",
          "name": "stdout",
          "text": [
            "Mounted at /content/drive\n"
          ]
        }
      ]
    },
    {
      "cell_type": "code",
      "source": [
        "!pip install torcheval"
      ],
      "metadata": {
        "colab": {
          "base_uri": "https://localhost:8080/"
        },
        "id": "7HNfrWGhvSNB",
        "outputId": "761b2f1d-3911-4ff2-cc72-45ef626c4cf3"
      },
      "execution_count": 3,
      "outputs": [
        {
          "output_type": "stream",
          "name": "stdout",
          "text": [
            "Collecting torcheval\n",
            "  Downloading torcheval-0.0.7-py3-none-any.whl (179 kB)\n",
            "\u001b[2K     \u001b[90m━━━━━━━━━━━━━━━━━━━━━━━━━━━━━━━━━━━━━━━━\u001b[0m \u001b[32m179.2/179.2 kB\u001b[0m \u001b[31m3.3 MB/s\u001b[0m eta \u001b[36m0:00:00\u001b[0m\n",
            "\u001b[?25hRequirement already satisfied: typing-extensions in /usr/local/lib/python3.10/dist-packages (from torcheval) (4.5.0)\n",
            "Installing collected packages: torcheval\n",
            "Successfully installed torcheval-0.0.7\n"
          ]
        }
      ]
    },
    {
      "cell_type": "code",
      "execution_count": 10,
      "metadata": {
        "id": "Dazh0KQ0vCkN"
      },
      "outputs": [],
      "source": [
        "# Imports\n",
        "\n",
        "import torch\n",
        "import torch.nn as nn\n",
        "import torch.nn.functional as F\n",
        "import torch.optim as optim\n",
        "from torch.utils.data import ConcatDataset, DataLoader, Subset\n",
        "\n",
        "import torchvision\n",
        "import torchvision.transforms as transforms\n",
        "from torchvision.datasets import CIFAR10\n",
        "\n",
        "from torcheval.metrics.functional import multiclass_confusion_matrix, multiclass_recall,\\\n",
        "                                multiclass_precision, multiclass_f1_score, multiclass_accuracy\n",
        "\n",
        "from sklearn.model_selection import KFold, ParameterGrid\n",
        "\n",
        "import numpy as np\n",
        "\n",
        "from tqdm import tqdm\n",
        "import matplotlib.pyplot as plt"
      ]
    },
    {
      "cell_type": "markdown",
      "metadata": {
        "id": "KCAGl79qwtpV"
      },
      "source": [
        "## Data Exploration\n",
        "\n",
        "Implement data loading and preprocessing techniques including normalization, resizing, and data augmentation."
      ]
    },
    {
      "cell_type": "code",
      "execution_count": 11,
      "metadata": {
        "id": "38EhvlPUXo1Z"
      },
      "outputs": [],
      "source": [
        "# Normalize the original dataset via transform module\n",
        "original_transform = transforms.Compose([\n",
        "    transforms.Resize((64, 64)),\n",
        "    transforms.ToTensor(),\n",
        "    transforms.Normalize((0.5, 0.5, 0.5), (0.5, 0.5, 0.5))\n",
        "])\n",
        "\n",
        "# Augment and normalize the original dataset via transform module\n",
        "augmented_transform = transforms.Compose([\n",
        "    transforms.Resize((64, 64)),\n",
        "    transforms.RandomHorizontalFlip(),\n",
        "    transforms.RandomVerticalFlip(),\n",
        "    transforms.RandomRotation(45),\n",
        "    transforms.ColorJitter(brightness=0.2, contrast=0.2, saturation=0.2, hue=0.2),\n",
        "    transforms.RandomResizedCrop(64, scale=(0.8, 1.0)),  # Make sure to resize to the same size\n",
        "    transforms.ToTensor(),\n",
        "    transforms.Normalize((0.5, 0.5, 0.5), (0.5, 0.5, 0.5))\n",
        "])\n"
      ]
    },
    {
      "cell_type": "code",
      "execution_count": 12,
      "metadata": {
        "colab": {
          "base_uri": "https://localhost:8080/"
        },
        "id": "_rdy7RifUIBN",
        "outputId": "f8dd5c1a-409a-48ff-ede1-6830a0910bf7"
      },
      "outputs": [
        {
          "output_type": "stream",
          "name": "stdout",
          "text": [
            "Downloading https://www.cs.toronto.edu/~kriz/cifar-10-python.tar.gz to ./data/cifar-10-python.tar.gz\n"
          ]
        },
        {
          "output_type": "stream",
          "name": "stderr",
          "text": [
            "100%|██████████| 170498071/170498071 [00:04<00:00, 40882374.01it/s]\n"
          ]
        },
        {
          "output_type": "stream",
          "name": "stdout",
          "text": [
            "Extracting ./data/cifar-10-python.tar.gz to ./data\n",
            "Trainset size: 100000\n",
            "Testset size: 20000\n"
          ]
        }
      ],
      "source": [
        "# Load CIFAR-10 dataset and apply normalization using original_transform\n",
        "original_trainset = CIFAR10(root='./data', train=True,\n",
        "                            download=True, transform=original_transform)\n",
        "original_testset = CIFAR10(root='./data', train=False,\n",
        "                            download=False, transform=original_transform)\n",
        "\n",
        "# Load CIFAR-10 dataset and apply augmentation then normalization using augmented_transform\n",
        "augmented_trainset = CIFAR10(root='./data', train=True,\n",
        "                             download=False, transform=augmented_transform)\n",
        "augmented_testset = CIFAR10(root='./data', train=False,\n",
        "                            download=False, transform=augmented_transform)\n",
        "\n",
        "# Concatenate original and augmented datasets to increase the size of the dataset\n",
        "trainset = ConcatDataset([original_trainset, augmented_trainset])\n",
        "testset = ConcatDataset([original_testset, augmented_testset])\n",
        "\n",
        "# Print the len\n",
        "print(\"Trainset size: {}\". format(len(trainset)))\n",
        "print(\"Testset size: {}\". format(len(testset)))\n"
      ]
    },
    {
      "cell_type": "code",
      "source": [
        "_, labels"
      ],
      "metadata": {
        "id": "BBohumq9yka2"
      },
      "execution_count": null,
      "outputs": []
    },
    {
      "cell_type": "code",
      "execution_count": 13,
      "metadata": {
        "id": "R_N2QW86ZHY5"
      },
      "outputs": [],
      "source": [
        "batch_size = 64\n",
        "\n",
        "# Create data loaders for train and test sets\n",
        "trainloader = DataLoader(trainset, batch_size=batch_size,\n",
        "                                          shuffle=True, num_workers=2)\n",
        "testloader = DataLoader(testset, batch_size=batch_size,\n",
        "                                         shuffle=False, num_workers=2)\n",
        "\n",
        "# Classes\n",
        "classes = ('plane', 'car', 'bird', 'cat', 'deer', 'dog', 'frog', 'horse', 'ship', 'truck')\n",
        "\n"
      ]
    },
    {
      "cell_type": "code",
      "execution_count": null,
      "metadata": {
        "colab": {
          "base_uri": "https://localhost:8080/",
          "height": 209
        },
        "id": "VPtknauCa_yg",
        "outputId": "e5991da4-836a-4b9c-b389-efa46babc572"
      },
      "outputs": [
        {
          "data": {
            "image/png": "[encoded data removed]",
            "text/plain": [
              "<Figure size 640x480 with 1 Axes>"
            ]
          },
          "metadata": {},
          "output_type": "display_data"
        },
        {
          "name": "stdout",
          "output_type": "stream",
          "text": [
            "ship  dog   horse car  \n"
          ]
        }
      ],
      "source": [
        "def imshow(img):\n",
        "    img = img / 2 + 0.5     # unnormalize\n",
        "    npimg = img.numpy()\n",
        "    plt.imshow(np.transpose(npimg, (1, 2, 0)))\n",
        "    plt.show()\n",
        "\n",
        "# Get some random images from training\n",
        "dataiter = iter(trainloader)\n",
        "images, labels = next(dataiter)\n",
        "\n",
        "# Show images\n",
        "imshow(torchvision.utils.make_grid(images))\n",
        "# Print labels\n",
        "print(' '.join(f'{classes[labels[j]]:5s}' for j in range(batch_size)))"
      ]
    },
    {
      "cell_type": "markdown",
      "metadata": {
        "id": "XCsswHgDa1bB"
      },
      "source": [
        "## Model Architecture\n",
        "\n",
        "Design a CNN model from scratch. Ensure the model is appropriate for the task but not overly complex."
      ]
    },
    {
      "cell_type": "code",
      "execution_count": 14,
      "metadata": {
        "id": "Ql-J6i3aVcXs"
      },
      "outputs": [],
      "source": [
        "# Create a CNN model call the layers and architecture needed\n",
        "class CNN(nn.Module):\n",
        "    def __init__(self):\n",
        "        super(CNN, self).__init__()\n",
        "        # First convolution layer with 3 channels input and 32 output channels.\n",
        "        self.conv1 = nn.Conv2d(3, 32, kernel_size=3, padding=1)\n",
        "        # First convolution layer with 32 channels input and 64 output channels.\n",
        "        self.conv2 = nn.Conv2d(32, 64, kernel_size=3, padding=1)\n",
        "        # Maxpool layer for dimention reduction\n",
        "        self.pool = nn.MaxPool2d(2, 2)\n",
        "        self.fc1 = nn.Linear(64 * 16 * 16, 512) # Non-linearity\n",
        "        self.fc2 = nn.Linear(512, 10) # Output prediction\n",
        "        self.dropout = nn.Dropout(.5)  # Dropout layer\n",
        "\n",
        "    def forward(self, x):\n",
        "        x = self.pool(F.relu(self.conv1(x)))\n",
        "        x = self.pool(F.relu(self.conv2(x)))\n",
        "        x = x.view(-1, 64 * 16 * 16) # Flatten\n",
        "        x = F.relu(self.fc1(x))\n",
        "        # x = self.dropout(x)\n",
        "        x = self.fc2(x)\n",
        "        return x"
      ]
    },
    {
      "cell_type": "code",
      "execution_count": 15,
      "metadata": {
        "id": "Hk3F6i0_eS3M"
      },
      "outputs": [],
      "source": [
        "# Create a model object from the CNN model\n",
        "net = CNN()"
      ]
    },
    {
      "cell_type": "markdown",
      "metadata": {
        "id": "Oh4uCJn6hIUd"
      },
      "source": [
        "## Training and Evaluation\n",
        "\n",
        "Tried two different optimizers in order to choose which one would perform better for later on hypertuning"
      ]
    },
    {
      "cell_type": "code",
      "execution_count": 16,
      "metadata": {
        "id": "oAN_G1T-fSXD"
      },
      "outputs": [],
      "source": [
        "# Set to variables of criterion and optimizer of Cross Entropy and Mini-Batch Gradient Decent, respectively.\n",
        "criterion = nn.CrossEntropyLoss()\n",
        "optimizer = optim.SGD(net.parameters(), lr=0.001, momentum=0.9)"
      ]
    },
    {
      "cell_type": "code",
      "execution_count": null,
      "metadata": {
        "colab": {
          "base_uri": "https://localhost:8080/"
        },
        "id": "WrLX8ZSOpq21",
        "outputId": "29b011c7-0963-45b8-e788-943f9120efb2"
      },
      "outputs": [
        {
          "name": "stdout",
          "output_type": "stream",
          "text": [
            "Training on Fold 1/5\n"
          ]
        },
        {
          "name": "stderr",
          "output_type": "stream",
          "text": [
            "Epoch 1 (Fold 1/5): 100%|██████████| 1250/1250 [11:48<00:00,  1.76it/s]\n",
            "Epoch 2 (Fold 1/5): 100%|██████████| 1250/1250 [11:53<00:00,  1.75it/s]\n",
            "Validation (Fold 1/5): 100%|██████████| 313/313 [01:18<00:00,  3.96it/s]\n"
          ]
        },
        {
          "name": "stdout",
          "output_type": "stream",
          "text": [
            "Validation loss: 1.623\n",
            "Validation accuracy: 42.08%\n",
            "Training on Fold 2/5\n"
          ]
        },
        {
          "name": "stderr",
          "output_type": "stream",
          "text": [
            "Epoch 1 (Fold 2/5): 100%|██████████| 1250/1250 [11:44<00:00,  1.78it/s]\n",
            "Epoch 2 (Fold 2/5): 100%|██████████| 1250/1250 [11:45<00:00,  1.77it/s]\n",
            "Validation (Fold 2/5): 100%|██████████| 313/313 [01:36<00:00,  3.25it/s]\n"
          ]
        },
        {
          "name": "stdout",
          "output_type": "stream",
          "text": [
            "Validation loss: 1.458\n",
            "Validation accuracy: 48.04%\n",
            "Training on Fold 3/5\n"
          ]
        },
        {
          "name": "stderr",
          "output_type": "stream",
          "text": [
            "Epoch 1 (Fold 3/5): 100%|██████████| 1250/1250 [11:48<00:00,  1.76it/s]\n",
            "Epoch 2 (Fold 3/5): 100%|██████████| 1250/1250 [11:41<00:00,  1.78it/s]\n",
            "Validation (Fold 3/5): 100%|██████████| 313/313 [01:34<00:00,  3.33it/s]\n"
          ]
        },
        {
          "name": "stdout",
          "output_type": "stream",
          "text": [
            "Validation loss: 1.362\n",
            "Validation accuracy: 51.77%\n",
            "Training on Fold 4/5\n"
          ]
        },
        {
          "name": "stderr",
          "output_type": "stream",
          "text": [
            "Epoch 1 (Fold 4/5): 100%|██████████| 1250/1250 [11:45<00:00,  1.77it/s]\n",
            "Epoch 2 (Fold 4/5): 100%|██████████| 1250/1250 [11:42<00:00,  1.78it/s]\n",
            "Validation (Fold 4/5): 100%|██████████| 313/313 [01:35<00:00,  3.29it/s]\n"
          ]
        },
        {
          "name": "stdout",
          "output_type": "stream",
          "text": [
            "Validation loss: 1.254\n",
            "Validation accuracy: 55.56%\n",
            "Training on Fold 5/5\n"
          ]
        },
        {
          "name": "stderr",
          "output_type": "stream",
          "text": [
            "Epoch 1 (Fold 5/5): 100%|██████████| 1250/1250 [11:52<00:00,  1.76it/s]\n",
            "Epoch 2 (Fold 5/5): 100%|██████████| 1250/1250 [12:01<00:00,  1.73it/s]\n",
            "Validation (Fold 5/5): 100%|██████████| 313/313 [01:19<00:00,  3.91it/s]"
          ]
        },
        {
          "name": "stdout",
          "output_type": "stream",
          "text": [
            "Validation loss: 1.195\n",
            "Validation accuracy: 57.65%\n",
            "Finished Training with Cross Validation\n"
          ]
        },
        {
          "name": "stderr",
          "output_type": "stream",
          "text": [
            "\n"
          ]
        }
      ],
      "source": [
        "# Set the number of folds\n",
        "num_folds = 5\n",
        "kf = KFold(n_splits=num_folds, shuffle=True, random_state=42)\n",
        "batch_size = 64\n",
        "\n",
        "# Loop over folds\n",
        "for fold, (train_indices, val_indices) in enumerate(kf.split(trainset)):\n",
        "    print(f\"Training on Fold {fold + 1}/{num_folds}\")\n",
        "\n",
        "    # Create data loaders for the current fold\n",
        "    train_subset = Subset(trainset, train_indices)\n",
        "    val_subset = Subset(trainset, val_indices)\n",
        "\n",
        "    # Create loaders for the train set and the validation dataset\n",
        "    trainloader = DataLoader(train_subset, batch_size=64, shuffle=True)\n",
        "    valloader = DataLoader(val_subset, batch_size=64, shuffle=False)\n",
        "\n",
        "    # Training loop\n",
        "    for epoch in range(2):  # loop over the dataset multiple times\n",
        "\n",
        "        running_loss = 0.0\n",
        "        for i, data in enumerate(tqdm(trainloader, desc=f'Epoch {epoch + 1} (Fold {fold + 1}/{num_folds})'), 0):\n",
        "            inputs, labels = data\n",
        "            # Reset the gradient\n",
        "            optimizer.zero_grad()\n",
        "            # Forward pass\n",
        "            outputs = net(inputs)\n",
        "            # Loss computing\n",
        "            loss = criterion(outputs, labels)\n",
        "            # Backward pass\n",
        "            loss.backward()\n",
        "            # Optimize model\n",
        "            optimizer.step()\n",
        "\n",
        "            running_loss += loss.item()\n",
        "            if i % 2000 == 1999:  # print every 2000 mini-batches\n",
        "                print(f'[{epoch + 1}, {i + 1:5d}] loss: {running_loss / 2000:.3f}')\n",
        "                running_loss = 0.0\n",
        "\n",
        "    # Validation loop\n",
        "    net.eval()  # Set the model to evaluation mode\n",
        "    val_loss = 0.0\n",
        "    correct = 0\n",
        "    total = 0\n",
        "    with torch.no_grad():\n",
        "        for data in tqdm(valloader, desc=f'Validation (Fold {fold + 1}/{num_folds})'):\n",
        "            inputs, labels = data\n",
        "            outputs = net(inputs)\n",
        "            loss = criterion(outputs, labels)\n",
        "            val_loss += loss.item()\n",
        "            # Set total and correct\n",
        "            _, predicted = outputs.max(1)\n",
        "            total += labels.size(0)\n",
        "            correct += predicted.eq(labels).sum().item()\n",
        "\n",
        "    # Print the validation loss and accuracy, respectively\n",
        "    print(f'Validation loss: {val_loss / len(valloader):.3f}')\n",
        "    print(f'Validation accuracy: {100 * correct / total:.2f}%')\n",
        "\n",
        "    net.train()  # Set the model back to training mode\n",
        "\n",
        "print('Finished Training with Cross Validation')"
      ]
    },
    {
      "cell_type": "code",
      "execution_count": 17,
      "metadata": {
        "id": "rpnQ-kQ4GulR"
      },
      "outputs": [],
      "source": [
        "# Set to variables of criterion and optimizer of Cross Entropy and Adam optimizer, respectively.\n",
        "optimizer = optim.Adam(net.parameters(), lr=0.001)"
      ]
    },
    {
      "cell_type": "code",
      "execution_count": null,
      "metadata": {
        "colab": {
          "base_uri": "https://localhost:8080/"
        },
        "id": "ix-zNNSxfhNE",
        "outputId": "6919a1b2-020f-4bdc-bde6-74c9e25f412d"
      },
      "outputs": [
        {
          "name": "stdout",
          "output_type": "stream",
          "text": [
            "Training on Fold 1/3\n"
          ]
        },
        {
          "name": "stderr",
          "output_type": "stream",
          "text": [
            "Epoch 1 (Fold 1/3): 100%|██████████| 1042/1042 [12:41<00:00,  1.37it/s]\n",
            "Epoch 2 (Fold 1/3): 100%|██████████| 1042/1042 [13:27<00:00,  1.29it/s]\n",
            "Epoch 3 (Fold 1/3): 100%|██████████| 1042/1042 [13:35<00:00,  1.28it/s]\n",
            "Validation (Fold 1/3): 100%|██████████| 521/521 [02:32<00:00,  3.42it/s]\n"
          ]
        },
        {
          "name": "stdout",
          "output_type": "stream",
          "text": [
            "Validation loss: 1.274\n",
            "Validation accuracy: 54.38%\n",
            "Training on Fold 2/3\n"
          ]
        },
        {
          "name": "stderr",
          "output_type": "stream",
          "text": [
            "Epoch 1 (Fold 2/3): 100%|██████████| 1042/1042 [13:31<00:00,  1.28it/s]\n",
            "Epoch 2 (Fold 2/3): 100%|██████████| 1042/1042 [13:25<00:00,  1.29it/s]\n",
            "Epoch 3 (Fold 2/3): 100%|██████████| 1042/1042 [13:26<00:00,  1.29it/s]\n",
            "Validation (Fold 2/3): 100%|██████████| 521/521 [02:32<00:00,  3.42it/s]\n"
          ]
        },
        {
          "name": "stdout",
          "output_type": "stream",
          "text": [
            "Validation loss: 1.100\n",
            "Validation accuracy: 61.17%\n",
            "Training on Fold 3/3\n"
          ]
        },
        {
          "name": "stderr",
          "output_type": "stream",
          "text": [
            "Epoch 1 (Fold 3/3): 100%|██████████| 1042/1042 [13:35<00:00,  1.28it/s]\n",
            "Epoch 2 (Fold 3/3): 100%|██████████| 1042/1042 [13:26<00:00,  1.29it/s]\n",
            "Epoch 3 (Fold 3/3): 100%|██████████| 1042/1042 [13:39<00:00,  1.27it/s]\n",
            "Validation (Fold 3/3): 100%|██████████| 521/521 [02:32<00:00,  3.43it/s]"
          ]
        },
        {
          "name": "stdout",
          "output_type": "stream",
          "text": [
            "Validation loss: 0.968\n",
            "Validation accuracy: 65.61%\n",
            "Finished Training with Cross Validation\n"
          ]
        },
        {
          "name": "stderr",
          "output_type": "stream",
          "text": [
            "\n"
          ]
        }
      ],
      "source": [
        "# Set the number of folds\n",
        "num_folds = 3\n",
        "kf = KFold(n_splits=num_folds, shuffle=True, random_state=42)\n",
        "\n",
        "# Loop over folds\n",
        "for fold, (train_indices, val_indices) in enumerate(kf.split(trainset)):\n",
        "    print(f\"Training on Fold {fold + 1}/{num_folds}\")\n",
        "\n",
        "    # Create data loaders for the current fold\n",
        "    train_subset = Subset(trainset, train_indices)\n",
        "    val_subset = Subset(trainset, val_indices)\n",
        "\n",
        "    # Create loaders for the train set and the validation dataset\n",
        "    trainloader = DataLoader(train_subset, batch_size=64, shuffle=True)\n",
        "    valloader = DataLoader(val_subset, batch_size=64, shuffle=False)\n",
        "\n",
        "    # Training loop\n",
        "    for epoch in range(3):  # loop over the dataset multiple times\n",
        "\n",
        "        running_loss = 0.0\n",
        "        for i, data in enumerate(tqdm(trainloader, desc=f'Epoch {epoch + 1} (Fold {fold + 1}/{num_folds})'), 0):\n",
        "            inputs, labels = data\n",
        "            # Reset the gradient\n",
        "            optimizer.zero_grad()\n",
        "            # Forward pass\n",
        "            outputs = net(inputs)\n",
        "            # Loss computing\n",
        "            loss = criterion(outputs, labels)\n",
        "            # Backward pass\n",
        "            loss.backward()\n",
        "            # Optimize model\n",
        "            optimizer.step()\n",
        "\n",
        "            running_loss += loss.item()\n",
        "            if i % 2000 == 1999:  # print every 2000 mini-batches\n",
        "                print(f'[{epoch + 1}, {i + 1:5d}] loss: {running_loss / 2000:.3f}')\n",
        "                running_loss = 0.0\n",
        "\n",
        "    # Validation loop (optional)\n",
        "    net.eval()  # Set the model to evaluation mode\n",
        "    val_loss = 0.0\n",
        "    correct = 0\n",
        "    total = 0\n",
        "    with torch.no_grad():\n",
        "        for data in tqdm(valloader, desc=f'Validation (Fold {fold + 1}/{num_folds})'):\n",
        "            inputs, labels = data\n",
        "            outputs = net(inputs)\n",
        "            loss = criterion(outputs, labels)\n",
        "            val_loss += loss.item()\n",
        "            # Set total and correct\n",
        "            _, predicted = outputs.max(1)\n",
        "            total += labels.size(0)\n",
        "            correct += predicted.eq(labels).sum().item()\n",
        "\n",
        "    # Print the validation loss and accuracy, respectively\n",
        "    print(f'Validation loss: {val_loss / len(valloader):.3f}')\n",
        "    print(f'Validation accuracy: {100 * correct / total:.2f}%')\n",
        "\n",
        "    net.train()  # Set the model back to training mode\n",
        "\n",
        "print('Finished Training with Cross Validation')"
      ]
    },
    {
      "cell_type": "code",
      "execution_count": null,
      "metadata": {
        "id": "ynhSuA2JT263"
      },
      "outputs": [],
      "source": [
        "torch.save(net, '/content/modeladamm.pth')"
      ]
    },
    {
      "cell_type": "markdown",
      "metadata": {
        "id": "uu68U0gNj9JI"
      },
      "source": [
        "## Hyperparameter tuning"
      ]
    },
    {
      "cell_type": "code",
      "execution_count": null,
      "metadata": {
        "colab": {
          "background_save": true,
          "base_uri": "https://localhost:8080/"
        },
        "id": "OX2iJ702PNEn",
        "outputId": "f273f17e-9063-4b54-9306-d2d92a477109"
      },
      "outputs": [
        {
          "name": "stdout",
          "output_type": "stream",
          "text": [
            "Hyperparameters: {'betas': (0.9, 0.999), 'eps': 1e-08}\n",
            "Training on Fold 1/3\n"
          ]
        },
        {
          "name": "stderr",
          "output_type": "stream",
          "text": [
            "Epoch 1 (Fold 1/3): 100%|██████████| 1042/1042 [13:13<00:00,  1.31it/s]\n",
            "Epoch 2 (Fold 1/3): 100%|██████████| 1042/1042 [14:00<00:00,  1.24it/s]\n",
            "Epoch 3 (Fold 1/3): 100%|██████████| 1042/1042 [14:00<00:00,  1.24it/s]\n",
            "Validation (Fold 1/3): 100%|██████████| 521/521 [02:54<00:00,  2.99it/s]\n"
          ]
        },
        {
          "name": "stdout",
          "output_type": "stream",
          "text": [
            "Validation loss: 1.186\n",
            "Validation accuracy: 57.68%\n",
            "Training on Fold 2/3\n"
          ]
        },
        {
          "name": "stderr",
          "output_type": "stream",
          "text": [
            "Epoch 1 (Fold 2/3): 100%|██████████| 1042/1042 [13:22<00:00,  1.30it/s]\n",
            "Epoch 2 (Fold 2/3): 100%|██████████| 1042/1042 [14:00<00:00,  1.24it/s]\n",
            "Epoch 3 (Fold 2/3): 100%|██████████| 1042/1042 [13:42<00:00,  1.27it/s]\n",
            "Validation (Fold 2/3): 100%|██████████| 521/521 [02:51<00:00,  3.04it/s]\n"
          ]
        },
        {
          "name": "stdout",
          "output_type": "stream",
          "text": [
            "Validation loss: 1.203\n",
            "Validation accuracy: 57.27%\n",
            "Training on Fold 3/3\n"
          ]
        },
        {
          "name": "stderr",
          "output_type": "stream",
          "text": [
            "Epoch 1 (Fold 3/3): 100%|██████████| 1042/1042 [11:06<00:00,  1.56it/s]\n",
            "Epoch 2 (Fold 3/3): 100%|██████████| 1042/1042 [11:55<00:00,  1.46it/s]\n",
            "Epoch 3 (Fold 3/3): 100%|██████████| 1042/1042 [11:55<00:00,  1.46it/s]\n",
            "Validation (Fold 3/3): 100%|██████████| 521/521 [02:52<00:00,  3.01it/s]\n"
          ]
        },
        {
          "name": "stdout",
          "output_type": "stream",
          "text": [
            "Validation loss: 1.172\n",
            "Validation accuracy: 58.73%\n",
            "Hyperparameters: {'betas': (0.9, 0.999), 'eps': 1e-07}\n",
            "Training on Fold 1/3\n"
          ]
        },
        {
          "name": "stderr",
          "output_type": "stream",
          "text": [
            "Epoch 1 (Fold 1/3): 100%|██████████| 1042/1042 [12:01<00:00,  1.44it/s]\n",
            "Epoch 2 (Fold 1/3): 100%|██████████| 1042/1042 [12:46<00:00,  1.36it/s]\n",
            "Epoch 3 (Fold 1/3): 100%|██████████| 1042/1042 [12:39<00:00,  1.37it/s]\n",
            "Validation (Fold 1/3): 100%|██████████| 521/521 [02:26<00:00,  3.55it/s]\n"
          ]
        },
        {
          "name": "stdout",
          "output_type": "stream",
          "text": [
            "Validation loss: 1.165\n",
            "Validation accuracy: 58.82%\n",
            "Training on Fold 2/3\n"
          ]
        },
        {
          "name": "stderr",
          "output_type": "stream",
          "text": [
            "Epoch 1 (Fold 2/3): 100%|██████████| 1042/1042 [11:13<00:00,  1.55it/s]\n",
            "Epoch 2 (Fold 2/3): 100%|██████████| 1042/1042 [12:09<00:00,  1.43it/s]\n",
            "Epoch 3 (Fold 2/3): 100%|██████████| 1042/1042 [12:10<00:00,  1.43it/s]\n",
            "Validation (Fold 2/3): 100%|██████████| 521/521 [02:50<00:00,  3.06it/s]\n"
          ]
        },
        {
          "name": "stdout",
          "output_type": "stream",
          "text": [
            "Validation loss: 1.203\n",
            "Validation accuracy: 57.35%\n",
            "Training on Fold 3/3\n"
          ]
        },
        {
          "name": "stderr",
          "output_type": "stream",
          "text": [
            "Epoch 1 (Fold 3/3): 100%|██████████| 1042/1042 [11:15<00:00,  1.54it/s]\n",
            "Epoch 2 (Fold 3/3): 100%|██████████| 1042/1042 [12:04<00:00,  1.44it/s]\n",
            "Epoch 3 (Fold 3/3): 100%|██████████| 1042/1042 [11:54<00:00,  1.46it/s]\n",
            "Validation (Fold 3/3): 100%|██████████| 521/521 [02:53<00:00,  3.01it/s]\n"
          ]
        },
        {
          "name": "stdout",
          "output_type": "stream",
          "text": [
            "Validation loss: 1.195\n",
            "Validation accuracy: 57.27%\n",
            "Hyperparameters: {'betas': (0.9, 0.999), 'eps': 1e-06}\n",
            "Training on Fold 1/3\n"
          ]
        },
        {
          "name": "stderr",
          "output_type": "stream",
          "text": [
            "Epoch 1 (Fold 1/3): 100%|██████████| 1042/1042 [11:09<00:00,  1.56it/s]\n",
            "Epoch 2 (Fold 1/3): 100%|██████████| 1042/1042 [12:09<00:00,  1.43it/s]\n",
            "Epoch 3 (Fold 1/3): 100%|██████████| 1042/1042 [12:06<00:00,  1.43it/s]\n",
            "Validation (Fold 1/3): 100%|██████████| 521/521 [02:51<00:00,  3.04it/s]\n"
          ]
        },
        {
          "name": "stdout",
          "output_type": "stream",
          "text": [
            "Validation loss: 1.268\n",
            "Validation accuracy: 55.04%\n",
            "Training on Fold 2/3\n"
          ]
        },
        {
          "name": "stderr",
          "output_type": "stream",
          "text": [
            "Epoch 1 (Fold 2/3): 100%|██████████| 1042/1042 [11:14<00:00,  1.55it/s]\n",
            "Epoch 2 (Fold 2/3): 100%|██████████| 1042/1042 [11:59<00:00,  1.45it/s]\n",
            "Epoch 3 (Fold 2/3): 100%|██████████| 1042/1042 [12:09<00:00,  1.43it/s]\n",
            "Validation (Fold 2/3): 100%|██████████| 521/521 [02:29<00:00,  3.48it/s]\n"
          ]
        },
        {
          "name": "stdout",
          "output_type": "stream",
          "text": [
            "Validation loss: 1.175\n",
            "Validation accuracy: 58.24%\n",
            "Training on Fold 3/3\n"
          ]
        },
        {
          "name": "stderr",
          "output_type": "stream",
          "text": [
            "Epoch 1 (Fold 3/3): 100%|██████████| 1042/1042 [12:13<00:00,  1.42it/s]\n",
            "Epoch 2 (Fold 3/3): 100%|██████████| 1042/1042 [12:42<00:00,  1.37it/s]\n",
            "Epoch 3 (Fold 3/3): 100%|██████████| 1042/1042 [12:42<00:00,  1.37it/s]\n",
            "Validation (Fold 3/3): 100%|██████████| 521/521 [02:24<00:00,  3.61it/s]\n"
          ]
        },
        {
          "name": "stdout",
          "output_type": "stream",
          "text": [
            "Validation loss: 1.161\n",
            "Validation accuracy: 58.97%\n",
            "Hyperparameters: {'betas': (0.8, 0.9), 'eps': 1e-08}\n",
            "Training on Fold 1/3\n"
          ]
        },
        {
          "name": "stderr",
          "output_type": "stream",
          "text": [
            "Epoch 1 (Fold 1/3): 100%|██████████| 1042/1042 [14:59<00:00,  1.16it/s]\n",
            "Epoch 2 (Fold 1/3):  90%|████████▉ | 933/1042 [16:23<01:55,  1.06s/it]"
          ]
        }
      ],
      "source": [
        "# Set the number of folds\n",
        "num_folds = 3\n",
        "kf = KFold(n_splits=num_folds, shuffle=True, random_state=42)\n",
        "\n",
        "# Define the hyperparameter grid for Adam optimizer\n",
        "adam_hyperparameters = {\n",
        "    'betas': [(0.9, 0.999), (0.8, 0.9)],\n",
        "    'eps': [1e-8, 1e-7, 1e-6]\n",
        "}\n",
        "\n",
        "# Loop over hyperparameter combinations\n",
        "for adam_params in ParameterGrid(adam_hyperparameters):\n",
        "    print(f\"Hyperparameters: {adam_params}\")\n",
        "\n",
        "    # Loop over folds\n",
        "    for fold, (train_indices, val_indices) in enumerate(kf.split(trainset)):\n",
        "        print(f\"Training on Fold {fold + 1}/{num_folds}\")\n",
        "\n",
        "        # Create data loaders for the current fold\n",
        "        train_subset = Subset(trainset, train_indices)\n",
        "        val_subset = Subset(trainset, val_indices)\n",
        "\n",
        "        # Create loaders for the train set and the validation dataset\n",
        "        trainloader = DataLoader(train_subset, batch_size=64, shuffle=True)\n",
        "        valloader = DataLoader(val_subset, batch_size=64, shuffle=False)\n",
        "\n",
        "        # Create a new model for each hyperparameter combination\n",
        "        net = CNN()\n",
        "\n",
        "        # Set optimizer with current hyperparameters\n",
        "        optimizer = optim.Adam(net.parameters(), **adam_params)\n",
        "\n",
        "        # Training loop\n",
        "        for epoch in range(3):\n",
        "            running_loss = 0.0\n",
        "            for i, data in enumerate(tqdm(trainloader, desc=f'Epoch {epoch + 1} (Fold {fold + 1}/{num_folds})'), 0):\n",
        "                inputs, labels = data\n",
        "                optimizer.zero_grad()\n",
        "                outputs = net(inputs)\n",
        "                loss = criterion(outputs, labels)\n",
        "                loss.backward()\n",
        "                optimizer.step()\n",
        "                running_loss += loss.item()\n",
        "                if i % 2000 == 1999:\n",
        "                    print(f'[{epoch + 1}, {i + 1:5d}] loss: {running_loss / 2000:.3f}')\n",
        "                    running_loss = 0.0\n",
        "\n",
        "        # Validation loop\n",
        "        net.eval()\n",
        "        val_loss = 0.0\n",
        "        correct = 0\n",
        "        total = 0\n",
        "        with torch.no_grad():\n",
        "            for data in tqdm(valloader, desc=f'Validation (Fold {fold + 1}/{num_folds})'):\n",
        "                inputs, labels = data\n",
        "                outputs = net(inputs)\n",
        "                loss = criterion(outputs, labels)\n",
        "                val_loss += loss.item()\n",
        "                _, predicted = outputs.max(1)\n",
        "                total += labels.size(0)\n",
        "                correct += predicted.eq(labels).sum().item()\n",
        "\n",
        "        # Print the validation loss and accuracy\n",
        "        print(f'Validation loss: {val_loss / len(valloader):.3f}')\n",
        "        print(f'Validation accuracy: {100 * correct / total:.2f}%')\n",
        "\n",
        "        net.train()\n",
        "\n",
        "\n",
        "print('Finished Training with Cross Validation')\n"
      ]
    },
    {
      "cell_type": "markdown",
      "metadata": {
        "id": "dcWfLOz2K7qj"
      },
      "source": [
        "## Testing and Evaluation"
      ]
    },
    {
      "cell_type": "code",
      "execution_count": 23,
      "metadata": {
        "id": "Jgy_qBTm1eBL",
        "colab": {
          "base_uri": "https://localhost:8080/"
        },
        "outputId": "3df7ff36-1cc3-44c7-90e0-666875b950cf"
      },
      "outputs": [
        {
          "output_type": "stream",
          "name": "stderr",
          "text": [
            "Testing: 100%|██████████| 313/313 [01:42<00:00,  3.06it/s]"
          ]
        },
        {
          "output_type": "stream",
          "name": "stdout",
          "text": [
            "Test loss: 1.162\n",
            "Test accuracy: 60.27%\n"
          ]
        },
        {
          "output_type": "stream",
          "name": "stderr",
          "text": [
            "\n"
          ]
        }
      ],
      "source": [
        "net = torch.load('/content/drive/MyDrive/modeladam.pth')\n",
        "net.eval()  # Set the model to evaluation mode\n",
        "\n",
        "criterion = nn.CrossEntropyLoss()\n",
        "\n",
        "test_loss = 0.0\n",
        "correct = 0\n",
        "total = 0\n",
        "all_labels = []\n",
        "all_predictions = []\n",
        "\n",
        "with torch.no_grad():\n",
        "    for data in tqdm(testloader, desc='Testing'):\n",
        "        inputs, labels = data\n",
        "        outputs = net(inputs)\n",
        "        loss = criterion(outputs, labels)\n",
        "        test_loss += loss.item()\n",
        "\n",
        "        # Collect predictions and ground truth labels for later analysis\n",
        "        _, predicted = outputs.max(1)\n",
        "\n",
        "        total += labels.size(0)\n",
        "        correct += predicted.eq(labels).sum().item()\n",
        "\n",
        "# Print the test loss and accuracy\n",
        "print(f'Test loss: {test_loss / len(testloader):.3f}')\n",
        "print(f'Test accuracy: {100 * correct / total:.2f}%')"
      ]
    },
    {
      "cell_type": "code",
      "execution_count": 26,
      "metadata": {
        "id": "i5fw98b-K25a",
        "colab": {
          "base_uri": "https://localhost:8080/"
        },
        "outputId": "eff8fcab-22be-4604-988e-8a8c1a42e281"
      },
      "outputs": [
        {
          "output_type": "stream",
          "name": "stdout",
          "text": [
            "Test accuracy: 0.56\n",
            "Precision: 0.56\n",
            "Recall: 0.56\n",
            "F1-score: 0.56\n"
          ]
        }
      ],
      "source": [
        "# Calculate additional metrics\n",
        "accuracy = multiclass_accuracy(predicted, labels, num_classes=10)\n",
        "precision = multiclass_precision(predicted, labels, num_classes=10)\n",
        "recall = multiclass_recall(predicted, labels, num_classes=10)\n",
        "f1 = multiclass_f1_score(predicted, labels, num_classes=10)\n",
        "\n",
        "# Print the calculated metrics\n",
        "print(f'Test accuracy: {accuracy:.2f}')\n",
        "print(f'Precision: {precision:.2f}')\n",
        "print(f'Recall: {recall:.2f}')\n",
        "print(f'F1-score: {f1:.2f}')\n"
      ]
    },
    {
      "cell_type": "markdown",
      "source": [
        "## Report"
      ],
      "metadata": {
        "id": "N7m8AcCITF8G"
      }
    },
    {
      "cell_type": "markdown",
      "source": [
        "1. **Architecture**: the technique adopted is a straightforward approach of creating a model of two convolutional layers, max-pooling layer, finishing with a fully-connected layer. In order to perserve the input size of the images, padding was used.\n",
        "\n",
        "2. **Loss function**: as working with a classification task, Cross Entropy loss function was selected.\n",
        "\n",
        "3. **Optimizers**: two optimizers were evaluated and compared. After 3 epochs, the Adam optimizer outperformed Mini-Batch Gradient Descent, resulting in 65.61% and 57.56% validation accuracy, respectively.\n",
        "\n",
        "4. **Test results**: the initial model using the Adam optimizer has resulted in 56% on the testsets.\n",
        "\n",
        "5. **Hyperparameter tuning**: to optimize the Adam optimizer parameters, hyperparameter tuning was initiated. This was taken to achieve the best possible outcome on the validation/test result.\n",
        "\n",
        "\n",
        "#### Issues:\n",
        "1. **Underfitting**: the model show signs of underfitting, suggesting a need for higher complexity and capacity to capture the underlying patterns in data.\n",
        "2. **Computational resource limitation**: model training and validation process consumed a considerable amount of time due to limited computational power.\n",
        "\n",
        "\n",
        "#### Future Enhancements:\n",
        "1. **Model enhancement**: adjust the model architecture by adding more layers and add complexity to better capture data features.\n",
        "2. **Extend number of epochs**: by increasing the number of epochs, it may leave room for better performance.\n",
        "3. **Hyperparamters optimization**: continue the hyperparameter tuning process, focusing on the Adam optimizer, to identify the best combination that can lead to the best possible performance.\n"
      ],
      "metadata": {
        "id": "U-dx-ta0TJXm"
      }
    }
  ],
  "metadata": {
    "colab": {
      "provenance": [],
      "gpuType": "T4"
    },
    "kernelspec": {
      "display_name": "Python 3",
      "name": "python3"
    },
    "language_info": {
      "name": "python"
    }
  },
  "nbformat": 4,
  "nbformat_minor": 0
}